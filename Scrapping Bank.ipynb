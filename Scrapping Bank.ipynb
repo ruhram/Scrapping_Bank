{
 "cells": [
  {
   "cell_type": "code",
   "execution_count": 2,
   "id": "35103098-e1c7-40d2-a8de-926c20066462",
   "metadata": {},
   "outputs": [
    {
     "name": "stdout",
     "output_type": "stream",
     "text": [
      "Collecting geopy\n",
      "  Downloading geopy-2.3.0-py3-none-any.whl (119 kB)\n",
      "Collecting geographiclib<3,>=1.52\n",
      "  Downloading geographiclib-2.0-py3-none-any.whl (40 kB)\n",
      "Installing collected packages: geographiclib, geopy\n",
      "Successfully installed geographiclib-2.0 geopy-2.3.0\n",
      "Note: you may need to restart the kernel to use updated packages.\n"
     ]
    }
   ],
   "source": [
    "pip install geopy"
   ]
  },
  {
   "cell_type": "code",
   "execution_count": 1,
   "id": "bac50ab0-2a29-4c3e-9235-2a2180ec5352",
   "metadata": {},
   "outputs": [],
   "source": [
    "import geopy"
   ]
  },
  {
   "cell_type": "code",
   "execution_count": 2,
   "id": "b51b19cc-1fde-4247-9c15-337e13aea288",
   "metadata": {},
   "outputs": [],
   "source": [
    "import pandas as pd \n",
    "import numpy as np \n",
    "import requests\n",
    "from bs4 import BeautifulSoup as bs"
   ]
  },
  {
   "cell_type": "code",
   "execution_count": 89,
   "id": "3a21247b-8ea2-429e-842e-48879b287b47",
   "metadata": {},
   "outputs": [],
   "source": [
    "endpoint = 'https://nominatim.openstreetmap.org/search.php?q=Bank+Mandiri&format=jsonv2'"
   ]
  },
  {
   "cell_type": "code",
   "execution_count": 4,
   "id": "7bb96edd-0dd0-40db-8700-713a48165465",
   "metadata": {},
   "outputs": [],
   "source": [
    "q = 'Bank+Mandiri'\n",
    "format = 'jsonv2'\n",
    "endpoint1 = 'https://nominatim.openstreetmap.org/search.php?q='+q+'&'+'format='+format"
   ]
  },
  {
   "cell_type": "code",
   "execution_count": 7,
   "id": "50b54312-1614-4c0b-93d3-c365dd56e6c1",
   "metadata": {},
   "outputs": [],
   "source": [
    "response = requests.get(endpoint1)"
   ]
  },
  {
   "cell_type": "code",
   "execution_count": 8,
   "id": "8dc6530a-e4c3-4696-a00b-30fef0b1f0de",
   "metadata": {},
   "outputs": [],
   "source": [
    "resp = response.json()"
   ]
  },
  {
   "cell_type": "code",
   "execution_count": 9,
   "id": "70b6013e-68d2-49c6-a7e6-45b0973dd990",
   "metadata": {},
   "outputs": [
    {
     "data": {
      "text/plain": [
       "{'place_id': 245125008,\n",
       " 'licence': 'Data © OpenStreetMap contributors, ODbL 1.0. https://osm.org/copyright',\n",
       " 'osm_type': 'way',\n",
       " 'osm_id': 684313287,\n",
       " 'boundingbox': ['0.1827953', '0.1833935', '117.4754085', '117.4759825'],\n",
       " 'lat': '0.1830904',\n",
       " 'lon': '117.47569484044689',\n",
       " 'display_name': 'Bank Mandiri, BRI, dan BNI, Guntung, Bontang, Kalimantan Timur, Indonesia',\n",
       " 'place_rank': 22,\n",
       " 'category': 'landuse',\n",
       " 'type': 'commercial',\n",
       " 'importance': 0.4000099999999999}"
      ]
     },
     "execution_count": 9,
     "metadata": {},
     "output_type": "execute_result"
    }
   ],
   "source": [
    "resp[0]"
   ]
  },
  {
   "cell_type": "code",
   "execution_count": 10,
   "id": "a45db29a-f655-423d-a133-bfa601442a14",
   "metadata": {},
   "outputs": [
    {
     "name": "stdout",
     "output_type": "stream",
     "text": [
      "[245125008, 55824089, 72239364, 79750640, 209243978, 177914945, 98218938, 308644899, 219048301, 300663591]\n"
     ]
    }
   ],
   "source": [
    "id = []\n",
    "for i in range(len(resp)) :\n",
    "    id.append(resp[i]['place_id'])\n",
    "\n",
    "print(id)"
   ]
  },
  {
   "cell_type": "code",
   "execution_count": 14,
   "id": "ff898402-de01-45cb-9894-8efa01d6a949",
   "metadata": {},
   "outputs": [
    {
     "name": "stdout",
     "output_type": "stream",
     "text": [
      "https://nominatim.openstreetmap.org/search.php?q=Bank+Mandiri&exclude_place_ids=245125008%2C55824089%2C72239364%2C79750640%2C209243978%2C177914945%2C98218938%2C308644899%2C219048301%2C300663591&format=jsonv2\n"
     ]
    }
   ],
   "source": [
    "endpoint = 'https://nominatim.openstreetmap.org/search.php?q='+q+'&'+\"exclude_place_ids=\"\n",
    "for i in range(len(id)-1):\n",
    "    endpoint = endpoint + str(id[i]) + '%2C'\n",
    "endpoint = endpoint + str(id[len(id)-1])+'&format='+format\n",
    "print(endpoint)"
   ]
  },
  {
   "cell_type": "code",
   "execution_count": 16,
   "id": "d5e43e80-90f3-42a7-a3b4-f0d382912f87",
   "metadata": {},
   "outputs": [
    {
     "data": {
      "text/plain": [
       "{'place_id': 136170635,\n",
       " 'licence': 'Data © OpenStreetMap contributors, ODbL 1.0. https://osm.org/copyright',\n",
       " 'osm_type': 'way',\n",
       " 'osm_id': 120691393,\n",
       " 'boundingbox': ['-6.184215', '-6.183826', '106.8239243', '106.824313'],\n",
       " 'lat': '-6.1840198',\n",
       " 'lon': '106.8241168643947',\n",
       " 'display_name': 'Bank Mandiri, 5, Jalan Haji Agus Salim, RW 01, Kebon Sirih, Menteng, Jakarta Pusat, Daerah Khusus Ibukota Jakarta, 10340, Indonesia',\n",
       " 'place_rank': 30,\n",
       " 'category': 'amenity',\n",
       " 'type': 'bank',\n",
       " 'importance': 0.20000999999999997,\n",
       " 'icon': 'https://nominatim.openstreetmap.org/ui/mapicons/money_bank2.p.20.png'}"
      ]
     },
     "execution_count": 16,
     "metadata": {},
     "output_type": "execute_result"
    }
   ],
   "source": [
    "response = requests.get(endpoint)\n",
    "\n",
    "resp = response.json()\n",
    "\n",
    "resp[0]"
   ]
  },
  {
   "cell_type": "code",
   "execution_count": 21,
   "id": "504f47f6-9951-4b5e-b618-a8c68a558811",
   "metadata": {},
   "outputs": [],
   "source": [
    "for i in range(len(resp)) :\n",
    "    id.append(resp[i]['place_id'])"
   ]
  },
  {
   "cell_type": "code",
   "execution_count": 22,
   "id": "719d8149-a094-4db5-9fc4-ef6f1460bced",
   "metadata": {},
   "outputs": [
    {
     "data": {
      "text/plain": [
       "[245125008,\n",
       " 55824089,\n",
       " 72239364,\n",
       " 79750640,\n",
       " 209243978,\n",
       " 177914945,\n",
       " 98218938,\n",
       " 308644899,\n",
       " 219048301,\n",
       " 300663591,\n",
       " 136170635,\n",
       " 55979904,\n",
       " 66823070,\n",
       " 67059610,\n",
       " 199074842,\n",
       " 98079558,\n",
       " 177914926,\n",
       " 137404957,\n",
       " 98688779,\n",
       " 93358113]"
      ]
     },
     "execution_count": 22,
     "metadata": {},
     "output_type": "execute_result"
    }
   ],
   "source": [
    "id"
   ]
  },
  {
   "cell_type": "code",
   "execution_count": 156,
   "id": "93cf43e6-9de4-49c6-8f9c-353f1e5a74e0",
   "metadata": {},
   "outputs": [
    {
     "data": {
      "text/plain": [
       "'[{\"place_id\":245125008,\"licence\":\"Data © OpenStreetMap contributors, ODbL 1.0. https://osm.org/copyright\",\"osm_type\":\"way\",\"osm_id\":684313287,\"boundingbox\":[\"0.1827953\",\"0.1833935\",\"117.4754085\",\"117.4759825\"],\"lat\":\"0.1830904\",\"lon\":\"117.47569484044689\",\"display_name\":\"Bank Mandiri, BRI, dan BNI, Guntung, Bontang, Kalimantan Timur, Indonesia\",\"place_rank\":22,\"category\":\"landuse\",\"type\":\"commercial\",\"importance\":0.4000099999999999},{\"place_id\":55824089,\"licence\":\"Data © OpenStreetMap contributors, ODbL 1.0. https://osm.org/copyright\",\"osm_type\":\"node\",\"osm_id\":5033751698,\"boundingbox\":[\"-6.1639016\",\"-6.1638016\",\"106.7235232\",\"106.7236232\"],\"lat\":\"-6.1638516\",\"lon\":\"106.7235732\",\"display_name\":\"Bank Mandiri, Jalan Dharma Kencana, RW 11, Taman Semanan Indah, Cengkareng, Jakarta Barat, Daerah Khusus Ibukota Jakarta, Jawa, 11850, Indonesia\",\"place_rank\":30,\"category\":\"amenity\",\"type\":\"bank\",\"importance\":0.20000999999999997,\"icon\":\"https://nominatim.openstreetmap.org/ui/mapicons/money_bank2.p.20.png\"},{\"place_id\":72239364,\"licence\":\"Data © OpenStreetMap contributors, ODbL 1.0. https://osm.org/copyright\",\"osm_type\":\"node\",\"osm_id\":6936087685,\"boundingbox\":[\"-6.2146751\",\"-6.2145751\",\"106.8176007\",\"106.8177007\"],\"lat\":\"-6.2146251\",\"lon\":\"106.8176507\",\"display_name\":\"Bank Mandiri, Jalan Jenderal Sudirman, RW 02, Karet Tengsin, Tanah Abang, Jakarta Pusat, Daerah Khusus Ibukota Jakarta, 10220, Indonesia\",\"place_rank\":30,\"category\":\"amenity\",\"type\":\"bank\",\"importance\":0.20000999999999997,\"icon\":\"https://nominatim.openstreetmap.org/ui/mapicons/money_bank2.p.20.png\"},{\"place_id\":79750640,\"licence\":\"Data © OpenStreetMap contributors, ODbL 1.0. https://osm.org/copyright\",\"osm_type\":\"node\",\"osm_id\":7913586716,\"boundingbox\":[\"-7.2627911\",\"-7.2626911\",\"112.7404652\",\"112.7405652\"],\"lat\":\"-7.2627411\",\"lon\":\"112.7405152\",\"display_name\":\"Bank Mandiri, Jalan Mergoyoso, RW 10, Kedungdoro, Tegalsari, Surabaya, Jawa Timur, 60011, Indonesia\",\"place_rank\":30,\"category\":\"amenity\",\"type\":\"bank\",\"importance\":0.20000999999999997,\"icon\":\"https://nominatim.openstreetmap.org/ui/mapicons/money_bank2.p.20.png\"},{\"place_id\":209243978,\"licence\":\"Data © OpenStreetMap contributors, ODbL 1.0. https://osm.org/copyright\",\"osm_type\":\"way\",\"osm_id\":448077587,\"boundingbox\":[\"-7.2550974\",\"-7.2549272\",\"112.750415\",\"112.750619\"],\"lat\":\"-7.2550123\",\"lon\":\"112.750517\",\"display_name\":\"Bank Mandiri, Jalan Ambengan Batu II, RW 04, Tambaksari, Surabaya, Jawa Timur, 60136, Indonesia\",\"place_rank\":30,\"category\":\"amenity\",\"type\":\"bank\",\"importance\":0.20000999999999997,\"icon\":\"https://nominatim.openstreetmap.org/ui/mapicons/money_bank2.p.20.png\"},{\"place_id\":177914945,\"licence\":\"Data © OpenStreetMap contributors, ODbL 1.0. https://osm.org/copyright\",\"osm_type\":\"way\",\"osm_id\":288727130,\"boundingbox\":[\"3.584758\",\"3.5851141\",\"98.6804849\",\"98.6808765\"],\"lat\":\"3.584936\",\"lon\":\"98.68068070377787\",\"display_name\":\"Bank Mandiri, Jalan Ahmad Yani, Kesawan, Medan Barat, Kota Medan, Sumatera Utara, Sumatera, 20212, Indonesia\",\"place_rank\":30,\"category\":\"tourism\",\"type\":\"attraction\",\"importance\":0.20000999999999997,\"icon\":\"https://nominatim.openstreetmap.org/ui/mapicons/poi_point_of_interest.p.20.png\"},{\"place_id\":98218938,\"licence\":\"Data © OpenStreetMap contributors, ODbL 1.0. https://osm.org/copyright\",\"osm_type\":\"node\",\"osm_id\":9784316424,\"boundingbox\":[\"-5.4409008\",\"-5.4408008\",\"105.2737511\",\"105.2738511\"],\"lat\":\"-5.4408508\",\"lon\":\"105.2738011\",\"display_name\":\"Bank Mandiri, Jalan Kapten Haji Ahmad Ibrahim, Pecoh Raya, Bandar Lampung, Lampung, 35228, Indonesia\",\"place_rank\":30,\"category\":\"amenity\",\"type\":\"atm\",\"importance\":0.20000999999999997,\"icon\":\"https://nominatim.openstreetmap.org/ui/mapicons/money_atm2.p.20.png\"},{\"place_id\":308644899,\"licence\":\"Data © OpenStreetMap contributors, ODbL 1.0. https://osm.org/copyright\",\"osm_type\":\"relation\",\"osm_id\":7626146,\"boundingbox\":[\"-0.8837767\",\"-0.8830311\",\"131.2766067\",\"131.2775669\"],\"lat\":\"-0.8833952\",\"lon\":\"131.27734738611014\",\"display_name\":\"Bank Mandiri, Jalan Yos Sudarso, SORONG, Klaligi, Sorong, Papua Barat Daya, 98411, Indonesia\",\"place_rank\":30,\"category\":\"amenity\",\"type\":\"bank\",\"importance\":0.20000999999999997,\"icon\":\"https://nominatim.openstreetmap.org/ui/mapicons/money_bank2.p.20.png\"},{\"place_id\":219048301,\"licence\":\"Data © OpenStreetMap contributors, ODbL 1.0. https://osm.org/copyright\",\"osm_type\":\"way\",\"osm_id\":508001865,\"boundingbox\":[\"-0.8845244\",\"-0.8842222\",\"131.2864172\",\"131.2867195\"],\"lat\":\"-0.8843733\",\"lon\":\"131.286568350132\",\"display_name\":\"Bank Mandiri, Jalan Basuki Rahmat, SORONG, Malaingkedi, Sorong, Papua Barat Daya, 98412, Indonesia\",\"place_rank\":30,\"category\":\"amenity\",\"type\":\"bank\",\"importance\":0.20000999999999997,\"icon\":\"https://nominatim.openstreetmap.org/ui/mapicons/money_bank2.p.20.png\"},{\"place_id\":300663591,\"licence\":\"Data © OpenStreetMap contributors, ODbL 1.0. https://osm.org/copyright\",\"osm_type\":\"way\",\"osm_id\":1069452298,\"boundingbox\":[\"0.911542\",\"0.9119345\",\"108.9888472\",\"108.9892793\"],\"lat\":\"0.9117382\",\"lon\":\"108.98906325913244\",\"display_name\":\"Bank Mandiri, Jalan Merpati, Singkawang Barat, Singkawang, Kalimantan Barat, 79113, Indonesia\",\"place_rank\":30,\"category\":\"amenity\",\"type\":\"bank\",\"importance\":0.20000999999999997,\"icon\":\"https://nominatim.openstreetmap.org/ui/mapicons/money_bank2.p.20.png\"}]'"
      ]
     },
     "execution_count": 156,
     "metadata": {},
     "output_type": "execute_result"
    }
   ],
   "source": [
    "response = requests.get(endpoint1)\n",
    "response.text"
   ]
  },
  {
   "cell_type": "code",
   "execution_count": 24,
   "id": "2f066c35-7c36-4dd8-885c-c869bc4f51e5",
   "metadata": {},
   "outputs": [],
   "source": [
    "df = pd.DataFrame(resp)"
   ]
  },
  {
   "cell_type": "code",
   "execution_count": 25,
   "id": "cd52bde0-7dcd-4212-91e4-6149918d5d00",
   "metadata": {},
   "outputs": [
    {
     "data": {
      "text/html": [
       "<div>\n",
       "<style scoped>\n",
       "    .dataframe tbody tr th:only-of-type {\n",
       "        vertical-align: middle;\n",
       "    }\n",
       "\n",
       "    .dataframe tbody tr th {\n",
       "        vertical-align: top;\n",
       "    }\n",
       "\n",
       "    .dataframe thead th {\n",
       "        text-align: right;\n",
       "    }\n",
       "</style>\n",
       "<table border=\"1\" class=\"dataframe\">\n",
       "  <thead>\n",
       "    <tr style=\"text-align: right;\">\n",
       "      <th></th>\n",
       "      <th>place_id</th>\n",
       "      <th>licence</th>\n",
       "      <th>osm_type</th>\n",
       "      <th>osm_id</th>\n",
       "      <th>boundingbox</th>\n",
       "      <th>lat</th>\n",
       "      <th>lon</th>\n",
       "      <th>display_name</th>\n",
       "      <th>place_rank</th>\n",
       "      <th>category</th>\n",
       "      <th>type</th>\n",
       "      <th>importance</th>\n",
       "      <th>icon</th>\n",
       "    </tr>\n",
       "  </thead>\n",
       "  <tbody>\n",
       "    <tr>\n",
       "      <th>0</th>\n",
       "      <td>136170635</td>\n",
       "      <td>Data © OpenStreetMap contributors, ODbL 1.0. h...</td>\n",
       "      <td>way</td>\n",
       "      <td>120691393</td>\n",
       "      <td>[-6.184215, -6.183826, 106.8239243, 106.824313]</td>\n",
       "      <td>-6.1840198</td>\n",
       "      <td>106.8241168643947</td>\n",
       "      <td>Bank Mandiri, 5, Jalan Haji Agus Salim, RW 01,...</td>\n",
       "      <td>30</td>\n",
       "      <td>amenity</td>\n",
       "      <td>bank</td>\n",
       "      <td>0.20001</td>\n",
       "      <td>https://nominatim.openstreetmap.org/ui/mapicon...</td>\n",
       "    </tr>\n",
       "    <tr>\n",
       "      <th>1</th>\n",
       "      <td>55979904</td>\n",
       "      <td>Data © OpenStreetMap contributors, ODbL 1.0. h...</td>\n",
       "      <td>node</td>\n",
       "      <td>5055254963</td>\n",
       "      <td>[-6.2421955, -6.2420955, 106.7909157, 106.7910...</td>\n",
       "      <td>-6.2421455</td>\n",
       "      <td>106.7909657</td>\n",
       "      <td>Bank Mandiri, Jalan Kyai Maja, RW 01, Kramat P...</td>\n",
       "      <td>30</td>\n",
       "      <td>amenity</td>\n",
       "      <td>bank</td>\n",
       "      <td>0.20001</td>\n",
       "      <td>https://nominatim.openstreetmap.org/ui/mapicon...</td>\n",
       "    </tr>\n",
       "    <tr>\n",
       "      <th>2</th>\n",
       "      <td>66823070</td>\n",
       "      <td>Data © OpenStreetMap contributors, ODbL 1.0. h...</td>\n",
       "      <td>node</td>\n",
       "      <td>6250752018</td>\n",
       "      <td>[-6.1668558, -6.1667558, 106.7853255, 106.7854...</td>\n",
       "      <td>-6.1668058</td>\n",
       "      <td>106.7853755</td>\n",
       "      <td>Bank Mandiri, Jalan Kali Sekertariat, RW 01, T...</td>\n",
       "      <td>30</td>\n",
       "      <td>amenity</td>\n",
       "      <td>bank</td>\n",
       "      <td>0.20001</td>\n",
       "      <td>https://nominatim.openstreetmap.org/ui/mapicon...</td>\n",
       "    </tr>\n",
       "    <tr>\n",
       "      <th>3</th>\n",
       "      <td>67059610</td>\n",
       "      <td>Data © OpenStreetMap contributors, ODbL 1.0. h...</td>\n",
       "      <td>node</td>\n",
       "      <td>6250752017</td>\n",
       "      <td>[-6.1668873, -6.1667873, 106.7852223, 106.7853...</td>\n",
       "      <td>-6.1668373</td>\n",
       "      <td>106.7852723</td>\n",
       "      <td>Bank Mandiri (Link HIMBARA), Jalan Kali Sekert...</td>\n",
       "      <td>30</td>\n",
       "      <td>amenity</td>\n",
       "      <td>atm</td>\n",
       "      <td>0.20001</td>\n",
       "      <td>https://nominatim.openstreetmap.org/ui/mapicon...</td>\n",
       "    </tr>\n",
       "    <tr>\n",
       "      <th>4</th>\n",
       "      <td>199074842</td>\n",
       "      <td>Data © OpenStreetMap contributors, ODbL 1.0. h...</td>\n",
       "      <td>way</td>\n",
       "      <td>387380021</td>\n",
       "      <td>[3.5871256, 3.5875491, 98.674011, 98.6744021]</td>\n",
       "      <td>3.5873374</td>\n",
       "      <td>98.67420657480304</td>\n",
       "      <td>Bank Mandiri, Jalan Imam Bonjol, Little India,...</td>\n",
       "      <td>30</td>\n",
       "      <td>amenity</td>\n",
       "      <td>bank</td>\n",
       "      <td>0.20001</td>\n",
       "      <td>https://nominatim.openstreetmap.org/ui/mapicon...</td>\n",
       "    </tr>\n",
       "    <tr>\n",
       "      <th>5</th>\n",
       "      <td>98079558</td>\n",
       "      <td>Data © OpenStreetMap contributors, ODbL 1.0. h...</td>\n",
       "      <td>node</td>\n",
       "      <td>9776396506</td>\n",
       "      <td>[3.5864629, 3.5865629, 98.6672147, 98.6673147]</td>\n",
       "      <td>3.5865129</td>\n",
       "      <td>98.6672647</td>\n",
       "      <td>Bank Mandiri, Jalan S. Parman, Petisah Tengah,...</td>\n",
       "      <td>30</td>\n",
       "      <td>amenity</td>\n",
       "      <td>bank</td>\n",
       "      <td>0.20001</td>\n",
       "      <td>https://nominatim.openstreetmap.org/ui/mapicon...</td>\n",
       "    </tr>\n",
       "    <tr>\n",
       "      <th>6</th>\n",
       "      <td>177914926</td>\n",
       "      <td>Data © OpenStreetMap contributors, ODbL 1.0. h...</td>\n",
       "      <td>way</td>\n",
       "      <td>288727130</td>\n",
       "      <td>[3.584758, 3.5851141, 98.6804849, 98.6808765]</td>\n",
       "      <td>3.584936</td>\n",
       "      <td>98.68068070377787</td>\n",
       "      <td>Bank Mandiri, Jalan Ahmad Yani, Kesawan, Medan...</td>\n",
       "      <td>30</td>\n",
       "      <td>amenity</td>\n",
       "      <td>bank</td>\n",
       "      <td>0.20001</td>\n",
       "      <td>https://nominatim.openstreetmap.org/ui/mapicon...</td>\n",
       "    </tr>\n",
       "    <tr>\n",
       "      <th>7</th>\n",
       "      <td>137404957</td>\n",
       "      <td>Data © OpenStreetMap contributors, ODbL 1.0. h...</td>\n",
       "      <td>way</td>\n",
       "      <td>124894148</td>\n",
       "      <td>[-0.9574397, -0.9571011, 100.3563445, 100.3566...</td>\n",
       "      <td>-0.95727125</td>\n",
       "      <td>100.35648994390378</td>\n",
       "      <td>Bank Mandiri, Jalan Gereja, Belakang Tangsi, P...</td>\n",
       "      <td>30</td>\n",
       "      <td>amenity</td>\n",
       "      <td>bank</td>\n",
       "      <td>0.20001</td>\n",
       "      <td>https://nominatim.openstreetmap.org/ui/mapicon...</td>\n",
       "    </tr>\n",
       "    <tr>\n",
       "      <th>8</th>\n",
       "      <td>98688779</td>\n",
       "      <td>Data © OpenStreetMap contributors, ODbL 1.0. h...</td>\n",
       "      <td>node</td>\n",
       "      <td>9816090506</td>\n",
       "      <td>[0.909185, 0.909285, 108.9905906, 108.9906906]</td>\n",
       "      <td>0.909235</td>\n",
       "      <td>108.9906406</td>\n",
       "      <td>Bank Mandiri, Jalan G.M. Situt, Singkawang Ten...</td>\n",
       "      <td>30</td>\n",
       "      <td>amenity</td>\n",
       "      <td>atm</td>\n",
       "      <td>0.20001</td>\n",
       "      <td>https://nominatim.openstreetmap.org/ui/mapicon...</td>\n",
       "    </tr>\n",
       "    <tr>\n",
       "      <th>9</th>\n",
       "      <td>93358113</td>\n",
       "      <td>Data © OpenStreetMap contributors, ODbL 1.0. h...</td>\n",
       "      <td>node</td>\n",
       "      <td>9023161121</td>\n",
       "      <td>[-3.4425228, -3.4424228, 114.8223904, 114.8224...</td>\n",
       "      <td>-3.4424728</td>\n",
       "      <td>114.8224404</td>\n",
       "      <td>Bank Mandiri, Jalan Citra Megah Raya I, Loktab...</td>\n",
       "      <td>30</td>\n",
       "      <td>amenity</td>\n",
       "      <td>bank</td>\n",
       "      <td>0.20001</td>\n",
       "      <td>https://nominatim.openstreetmap.org/ui/mapicon...</td>\n",
       "    </tr>\n",
       "  </tbody>\n",
       "</table>\n",
       "</div>"
      ],
      "text/plain": [
       "    place_id                                            licence osm_type  \\\n",
       "0  136170635  Data © OpenStreetMap contributors, ODbL 1.0. h...      way   \n",
       "1   55979904  Data © OpenStreetMap contributors, ODbL 1.0. h...     node   \n",
       "2   66823070  Data © OpenStreetMap contributors, ODbL 1.0. h...     node   \n",
       "3   67059610  Data © OpenStreetMap contributors, ODbL 1.0. h...     node   \n",
       "4  199074842  Data © OpenStreetMap contributors, ODbL 1.0. h...      way   \n",
       "5   98079558  Data © OpenStreetMap contributors, ODbL 1.0. h...     node   \n",
       "6  177914926  Data © OpenStreetMap contributors, ODbL 1.0. h...      way   \n",
       "7  137404957  Data © OpenStreetMap contributors, ODbL 1.0. h...      way   \n",
       "8   98688779  Data © OpenStreetMap contributors, ODbL 1.0. h...     node   \n",
       "9   93358113  Data © OpenStreetMap contributors, ODbL 1.0. h...     node   \n",
       "\n",
       "       osm_id                                        boundingbox          lat  \\\n",
       "0   120691393    [-6.184215, -6.183826, 106.8239243, 106.824313]   -6.1840198   \n",
       "1  5055254963  [-6.2421955, -6.2420955, 106.7909157, 106.7910...   -6.2421455   \n",
       "2  6250752018  [-6.1668558, -6.1667558, 106.7853255, 106.7854...   -6.1668058   \n",
       "3  6250752017  [-6.1668873, -6.1667873, 106.7852223, 106.7853...   -6.1668373   \n",
       "4   387380021      [3.5871256, 3.5875491, 98.674011, 98.6744021]    3.5873374   \n",
       "5  9776396506     [3.5864629, 3.5865629, 98.6672147, 98.6673147]    3.5865129   \n",
       "6   288727130      [3.584758, 3.5851141, 98.6804849, 98.6808765]     3.584936   \n",
       "7   124894148  [-0.9574397, -0.9571011, 100.3563445, 100.3566...  -0.95727125   \n",
       "8  9816090506     [0.909185, 0.909285, 108.9905906, 108.9906906]     0.909235   \n",
       "9  9023161121  [-3.4425228, -3.4424228, 114.8223904, 114.8224...   -3.4424728   \n",
       "\n",
       "                  lon                                       display_name  \\\n",
       "0   106.8241168643947  Bank Mandiri, 5, Jalan Haji Agus Salim, RW 01,...   \n",
       "1         106.7909657  Bank Mandiri, Jalan Kyai Maja, RW 01, Kramat P...   \n",
       "2         106.7853755  Bank Mandiri, Jalan Kali Sekertariat, RW 01, T...   \n",
       "3         106.7852723  Bank Mandiri (Link HIMBARA), Jalan Kali Sekert...   \n",
       "4   98.67420657480304  Bank Mandiri, Jalan Imam Bonjol, Little India,...   \n",
       "5          98.6672647  Bank Mandiri, Jalan S. Parman, Petisah Tengah,...   \n",
       "6   98.68068070377787  Bank Mandiri, Jalan Ahmad Yani, Kesawan, Medan...   \n",
       "7  100.35648994390378  Bank Mandiri, Jalan Gereja, Belakang Tangsi, P...   \n",
       "8         108.9906406  Bank Mandiri, Jalan G.M. Situt, Singkawang Ten...   \n",
       "9         114.8224404  Bank Mandiri, Jalan Citra Megah Raya I, Loktab...   \n",
       "\n",
       "   place_rank category  type  importance  \\\n",
       "0          30  amenity  bank     0.20001   \n",
       "1          30  amenity  bank     0.20001   \n",
       "2          30  amenity  bank     0.20001   \n",
       "3          30  amenity   atm     0.20001   \n",
       "4          30  amenity  bank     0.20001   \n",
       "5          30  amenity  bank     0.20001   \n",
       "6          30  amenity  bank     0.20001   \n",
       "7          30  amenity  bank     0.20001   \n",
       "8          30  amenity   atm     0.20001   \n",
       "9          30  amenity  bank     0.20001   \n",
       "\n",
       "                                                icon  \n",
       "0  https://nominatim.openstreetmap.org/ui/mapicon...  \n",
       "1  https://nominatim.openstreetmap.org/ui/mapicon...  \n",
       "2  https://nominatim.openstreetmap.org/ui/mapicon...  \n",
       "3  https://nominatim.openstreetmap.org/ui/mapicon...  \n",
       "4  https://nominatim.openstreetmap.org/ui/mapicon...  \n",
       "5  https://nominatim.openstreetmap.org/ui/mapicon...  \n",
       "6  https://nominatim.openstreetmap.org/ui/mapicon...  \n",
       "7  https://nominatim.openstreetmap.org/ui/mapicon...  \n",
       "8  https://nominatim.openstreetmap.org/ui/mapicon...  \n",
       "9  https://nominatim.openstreetmap.org/ui/mapicon...  "
      ]
     },
     "execution_count": 25,
     "metadata": {},
     "output_type": "execute_result"
    }
   ],
   "source": [
    "df"
   ]
  },
  {
   "cell_type": "code",
   "execution_count": 131,
   "id": "f16f7050-12c3-4ce0-b87a-ce1debc18e15",
   "metadata": {},
   "outputs": [],
   "source": [
    "dfs = []"
   ]
  },
  {
   "cell_type": "code",
   "execution_count": 139,
   "id": "3230c31d-771a-48b2-b2c6-6f2ce0407ed3",
   "metadata": {},
   "outputs": [],
   "source": [
    "df1 = df.iloc[:2]\n",
    "\n",
    "df2 = df.iloc[2:]"
   ]
  },
  {
   "cell_type": "code",
   "execution_count": 140,
   "id": "9d35d2ca-e9b5-4ac7-984e-4a9906d09dbf",
   "metadata": {},
   "outputs": [],
   "source": [
    "dfs.append(df1)"
   ]
  },
  {
   "cell_type": "code",
   "execution_count": 141,
   "id": "a77cb7a4-9edf-441d-b407-c33b8c0c9029",
   "metadata": {},
   "outputs": [
    {
     "data": {
      "text/plain": [
       "[    place_id                                            licence osm_type  \\\n",
       " 0  245125008  Data © OpenStreetMap contributors, ODbL 1.0. h...      way   \n",
       " 1   55824089  Data © OpenStreetMap contributors, ODbL 1.0. h...     node   \n",
       " \n",
       "        osm_id                                        boundingbox         lat  \\\n",
       " 0   684313287   [0.1827953, 0.1833935, 117.4754085, 117.4759825]   0.1830904   \n",
       " 1  5033751698  [-6.1639016, -6.1638016, 106.7235232, 106.7236...  -6.1638516   \n",
       " \n",
       "                   lon                                       display_name  \\\n",
       " 0  117.47569484044689  Bank Mandiri, BRI, dan BNI, Guntung, Bontang, ...   \n",
       " 1         106.7235732  Bank Mandiri, Jalan Dharma Kencana, RW 11, Tam...   \n",
       " \n",
       "    place_rank category        type  importance  \\\n",
       " 0          22  landuse  commercial     0.40001   \n",
       " 1          30  amenity        bank     0.20001   \n",
       " \n",
       "                                                 icon  \n",
       " 0                                                NaN  \n",
       " 1  https://nominatim.openstreetmap.org/ui/mapicon...  ]"
      ]
     },
     "execution_count": 141,
     "metadata": {},
     "output_type": "execute_result"
    }
   ],
   "source": [
    "dfs"
   ]
  },
  {
   "cell_type": "code",
   "execution_count": 142,
   "id": "528cb4af-1ef2-4343-9ba7-4dd4eda33e3a",
   "metadata": {},
   "outputs": [],
   "source": [
    "dfs.append(df2)"
   ]
  },
  {
   "cell_type": "code",
   "execution_count": 143,
   "id": "9a366d07-5ac9-424a-a5f1-bf7372e11bff",
   "metadata": {},
   "outputs": [
    {
     "data": {
      "text/plain": [
       "[    place_id                                            licence osm_type  \\\n",
       " 0  245125008  Data © OpenStreetMap contributors, ODbL 1.0. h...      way   \n",
       " 1   55824089  Data © OpenStreetMap contributors, ODbL 1.0. h...     node   \n",
       " \n",
       "        osm_id                                        boundingbox         lat  \\\n",
       " 0   684313287   [0.1827953, 0.1833935, 117.4754085, 117.4759825]   0.1830904   \n",
       " 1  5033751698  [-6.1639016, -6.1638016, 106.7235232, 106.7236...  -6.1638516   \n",
       " \n",
       "                   lon                                       display_name  \\\n",
       " 0  117.47569484044689  Bank Mandiri, BRI, dan BNI, Guntung, Bontang, ...   \n",
       " 1         106.7235732  Bank Mandiri, Jalan Dharma Kencana, RW 11, Tam...   \n",
       " \n",
       "    place_rank category        type  importance  \\\n",
       " 0          22  landuse  commercial     0.40001   \n",
       " 1          30  amenity        bank     0.20001   \n",
       " \n",
       "                                                 icon  \n",
       " 0                                                NaN  \n",
       " 1  https://nominatim.openstreetmap.org/ui/mapicon...  ,\n",
       "     place_id                                            licence  osm_type  \\\n",
       " 2   72239364  Data © OpenStreetMap contributors, ODbL 1.0. h...      node   \n",
       " 3   79750640  Data © OpenStreetMap contributors, ODbL 1.0. h...      node   \n",
       " 4  209243978  Data © OpenStreetMap contributors, ODbL 1.0. h...       way   \n",
       " 5  177914945  Data © OpenStreetMap contributors, ODbL 1.0. h...       way   \n",
       " 6   98218938  Data © OpenStreetMap contributors, ODbL 1.0. h...      node   \n",
       " 7  308644899  Data © OpenStreetMap contributors, ODbL 1.0. h...  relation   \n",
       " 8  219048301  Data © OpenStreetMap contributors, ODbL 1.0. h...       way   \n",
       " 9  300663591  Data © OpenStreetMap contributors, ODbL 1.0. h...       way   \n",
       " \n",
       "        osm_id                                        boundingbox         lat  \\\n",
       " 2  6936087685  [-6.2146751, -6.2145751, 106.8176007, 106.8177...  -6.2146251   \n",
       " 3  7913586716  [-7.2627911, -7.2626911, 112.7404652, 112.7405...  -7.2627411   \n",
       " 4   448077587   [-7.2550974, -7.2549272, 112.750415, 112.750619]  -7.2550123   \n",
       " 5   288727130      [3.584758, 3.5851141, 98.6804849, 98.6808765]    3.584936   \n",
       " 6  9784316424  [-5.4409008, -5.4408008, 105.2737511, 105.2738...  -5.4408508   \n",
       " 7     7626146  [-0.8837767, -0.8830311, 131.2766067, 131.2775...  -0.8833952   \n",
       " 8   508001865  [-0.8845244, -0.8842222, 131.2864172, 131.2867...  -0.8843733   \n",
       " 9  1069452298    [0.911542, 0.9119345, 108.9888472, 108.9892793]   0.9117382   \n",
       " \n",
       "                   lon                                       display_name  \\\n",
       " 2         106.8176507  Bank Mandiri, Jalan Jenderal Sudirman, RW 02, ...   \n",
       " 3         112.7405152  Bank Mandiri, Jalan Mergoyoso, RW 10, Kedungdo...   \n",
       " 4          112.750517  Bank Mandiri, Jalan Ambengan Batu II, RW 04, T...   \n",
       " 5   98.68068070377787  Bank Mandiri, Jalan Ahmad Yani, Kesawan, Medan...   \n",
       " 6         105.2738011  Bank Mandiri, Jalan Kapten Haji Ahmad Ibrahim,...   \n",
       " 7  131.27734738611014  Bank Mandiri, Jalan Yos Sudarso, SORONG, Klali...   \n",
       " 8    131.286568350132  Bank Mandiri, Jalan Basuki Rahmat, SORONG, Mal...   \n",
       " 9  108.98906325913244  Bank Mandiri, Jalan Merpati, Singkawang Barat,...   \n",
       " \n",
       "    place_rank category        type  importance  \\\n",
       " 2          30  amenity        bank     0.20001   \n",
       " 3          30  amenity        bank     0.20001   \n",
       " 4          30  amenity        bank     0.20001   \n",
       " 5          30  tourism  attraction     0.20001   \n",
       " 6          30  amenity         atm     0.20001   \n",
       " 7          30  amenity        bank     0.20001   \n",
       " 8          30  amenity        bank     0.20001   \n",
       " 9          30  amenity        bank     0.20001   \n",
       " \n",
       "                                                 icon  \n",
       " 2  https://nominatim.openstreetmap.org/ui/mapicon...  \n",
       " 3  https://nominatim.openstreetmap.org/ui/mapicon...  \n",
       " 4  https://nominatim.openstreetmap.org/ui/mapicon...  \n",
       " 5  https://nominatim.openstreetmap.org/ui/mapicon...  \n",
       " 6  https://nominatim.openstreetmap.org/ui/mapicon...  \n",
       " 7  https://nominatim.openstreetmap.org/ui/mapicon...  \n",
       " 8  https://nominatim.openstreetmap.org/ui/mapicon...  \n",
       " 9  https://nominatim.openstreetmap.org/ui/mapicon...  ]"
      ]
     },
     "execution_count": 143,
     "metadata": {},
     "output_type": "execute_result"
    }
   ],
   "source": [
    "dfs"
   ]
  },
  {
   "cell_type": "code",
   "execution_count": 144,
   "id": "b52d5d01-3f7a-48a2-bf69-883041afc559",
   "metadata": {},
   "outputs": [
    {
     "data": {
      "text/html": [
       "<div>\n",
       "<style scoped>\n",
       "    .dataframe tbody tr th:only-of-type {\n",
       "        vertical-align: middle;\n",
       "    }\n",
       "\n",
       "    .dataframe tbody tr th {\n",
       "        vertical-align: top;\n",
       "    }\n",
       "\n",
       "    .dataframe thead th {\n",
       "        text-align: right;\n",
       "    }\n",
       "</style>\n",
       "<table border=\"1\" class=\"dataframe\">\n",
       "  <thead>\n",
       "    <tr style=\"text-align: right;\">\n",
       "      <th></th>\n",
       "      <th>place_id</th>\n",
       "      <th>licence</th>\n",
       "      <th>osm_type</th>\n",
       "      <th>osm_id</th>\n",
       "      <th>boundingbox</th>\n",
       "      <th>lat</th>\n",
       "      <th>lon</th>\n",
       "      <th>display_name</th>\n",
       "      <th>place_rank</th>\n",
       "      <th>category</th>\n",
       "      <th>type</th>\n",
       "      <th>importance</th>\n",
       "      <th>icon</th>\n",
       "    </tr>\n",
       "  </thead>\n",
       "  <tbody>\n",
       "    <tr>\n",
       "      <th>0</th>\n",
       "      <td>245125008</td>\n",
       "      <td>Data © OpenStreetMap contributors, ODbL 1.0. h...</td>\n",
       "      <td>way</td>\n",
       "      <td>684313287</td>\n",
       "      <td>[0.1827953, 0.1833935, 117.4754085, 117.4759825]</td>\n",
       "      <td>0.1830904</td>\n",
       "      <td>117.47569484044689</td>\n",
       "      <td>Bank Mandiri, BRI, dan BNI, Guntung, Bontang, ...</td>\n",
       "      <td>22</td>\n",
       "      <td>landuse</td>\n",
       "      <td>commercial</td>\n",
       "      <td>0.40001</td>\n",
       "      <td>NaN</td>\n",
       "    </tr>\n",
       "    <tr>\n",
       "      <th>1</th>\n",
       "      <td>55824089</td>\n",
       "      <td>Data © OpenStreetMap contributors, ODbL 1.0. h...</td>\n",
       "      <td>node</td>\n",
       "      <td>5033751698</td>\n",
       "      <td>[-6.1639016, -6.1638016, 106.7235232, 106.7236...</td>\n",
       "      <td>-6.1638516</td>\n",
       "      <td>106.7235732</td>\n",
       "      <td>Bank Mandiri, Jalan Dharma Kencana, RW 11, Tam...</td>\n",
       "      <td>30</td>\n",
       "      <td>amenity</td>\n",
       "      <td>bank</td>\n",
       "      <td>0.20001</td>\n",
       "      <td>https://nominatim.openstreetmap.org/ui/mapicon...</td>\n",
       "    </tr>\n",
       "    <tr>\n",
       "      <th>2</th>\n",
       "      <td>72239364</td>\n",
       "      <td>Data © OpenStreetMap contributors, ODbL 1.0. h...</td>\n",
       "      <td>node</td>\n",
       "      <td>6936087685</td>\n",
       "      <td>[-6.2146751, -6.2145751, 106.8176007, 106.8177...</td>\n",
       "      <td>-6.2146251</td>\n",
       "      <td>106.8176507</td>\n",
       "      <td>Bank Mandiri, Jalan Jenderal Sudirman, RW 02, ...</td>\n",
       "      <td>30</td>\n",
       "      <td>amenity</td>\n",
       "      <td>bank</td>\n",
       "      <td>0.20001</td>\n",
       "      <td>https://nominatim.openstreetmap.org/ui/mapicon...</td>\n",
       "    </tr>\n",
       "    <tr>\n",
       "      <th>3</th>\n",
       "      <td>79750640</td>\n",
       "      <td>Data © OpenStreetMap contributors, ODbL 1.0. h...</td>\n",
       "      <td>node</td>\n",
       "      <td>7913586716</td>\n",
       "      <td>[-7.2627911, -7.2626911, 112.7404652, 112.7405...</td>\n",
       "      <td>-7.2627411</td>\n",
       "      <td>112.7405152</td>\n",
       "      <td>Bank Mandiri, Jalan Mergoyoso, RW 10, Kedungdo...</td>\n",
       "      <td>30</td>\n",
       "      <td>amenity</td>\n",
       "      <td>bank</td>\n",
       "      <td>0.20001</td>\n",
       "      <td>https://nominatim.openstreetmap.org/ui/mapicon...</td>\n",
       "    </tr>\n",
       "    <tr>\n",
       "      <th>4</th>\n",
       "      <td>209243978</td>\n",
       "      <td>Data © OpenStreetMap contributors, ODbL 1.0. h...</td>\n",
       "      <td>way</td>\n",
       "      <td>448077587</td>\n",
       "      <td>[-7.2550974, -7.2549272, 112.750415, 112.750619]</td>\n",
       "      <td>-7.2550123</td>\n",
       "      <td>112.750517</td>\n",
       "      <td>Bank Mandiri, Jalan Ambengan Batu II, RW 04, T...</td>\n",
       "      <td>30</td>\n",
       "      <td>amenity</td>\n",
       "      <td>bank</td>\n",
       "      <td>0.20001</td>\n",
       "      <td>https://nominatim.openstreetmap.org/ui/mapicon...</td>\n",
       "    </tr>\n",
       "    <tr>\n",
       "      <th>5</th>\n",
       "      <td>177914945</td>\n",
       "      <td>Data © OpenStreetMap contributors, ODbL 1.0. h...</td>\n",
       "      <td>way</td>\n",
       "      <td>288727130</td>\n",
       "      <td>[3.584758, 3.5851141, 98.6804849, 98.6808765]</td>\n",
       "      <td>3.584936</td>\n",
       "      <td>98.68068070377787</td>\n",
       "      <td>Bank Mandiri, Jalan Ahmad Yani, Kesawan, Medan...</td>\n",
       "      <td>30</td>\n",
       "      <td>tourism</td>\n",
       "      <td>attraction</td>\n",
       "      <td>0.20001</td>\n",
       "      <td>https://nominatim.openstreetmap.org/ui/mapicon...</td>\n",
       "    </tr>\n",
       "    <tr>\n",
       "      <th>6</th>\n",
       "      <td>98218938</td>\n",
       "      <td>Data © OpenStreetMap contributors, ODbL 1.0. h...</td>\n",
       "      <td>node</td>\n",
       "      <td>9784316424</td>\n",
       "      <td>[-5.4409008, -5.4408008, 105.2737511, 105.2738...</td>\n",
       "      <td>-5.4408508</td>\n",
       "      <td>105.2738011</td>\n",
       "      <td>Bank Mandiri, Jalan Kapten Haji Ahmad Ibrahim,...</td>\n",
       "      <td>30</td>\n",
       "      <td>amenity</td>\n",
       "      <td>atm</td>\n",
       "      <td>0.20001</td>\n",
       "      <td>https://nominatim.openstreetmap.org/ui/mapicon...</td>\n",
       "    </tr>\n",
       "    <tr>\n",
       "      <th>7</th>\n",
       "      <td>308644899</td>\n",
       "      <td>Data © OpenStreetMap contributors, ODbL 1.0. h...</td>\n",
       "      <td>relation</td>\n",
       "      <td>7626146</td>\n",
       "      <td>[-0.8837767, -0.8830311, 131.2766067, 131.2775...</td>\n",
       "      <td>-0.8833952</td>\n",
       "      <td>131.27734738611014</td>\n",
       "      <td>Bank Mandiri, Jalan Yos Sudarso, SORONG, Klali...</td>\n",
       "      <td>30</td>\n",
       "      <td>amenity</td>\n",
       "      <td>bank</td>\n",
       "      <td>0.20001</td>\n",
       "      <td>https://nominatim.openstreetmap.org/ui/mapicon...</td>\n",
       "    </tr>\n",
       "    <tr>\n",
       "      <th>8</th>\n",
       "      <td>219048301</td>\n",
       "      <td>Data © OpenStreetMap contributors, ODbL 1.0. h...</td>\n",
       "      <td>way</td>\n",
       "      <td>508001865</td>\n",
       "      <td>[-0.8845244, -0.8842222, 131.2864172, 131.2867...</td>\n",
       "      <td>-0.8843733</td>\n",
       "      <td>131.286568350132</td>\n",
       "      <td>Bank Mandiri, Jalan Basuki Rahmat, SORONG, Mal...</td>\n",
       "      <td>30</td>\n",
       "      <td>amenity</td>\n",
       "      <td>bank</td>\n",
       "      <td>0.20001</td>\n",
       "      <td>https://nominatim.openstreetmap.org/ui/mapicon...</td>\n",
       "    </tr>\n",
       "    <tr>\n",
       "      <th>9</th>\n",
       "      <td>300663591</td>\n",
       "      <td>Data © OpenStreetMap contributors, ODbL 1.0. h...</td>\n",
       "      <td>way</td>\n",
       "      <td>1069452298</td>\n",
       "      <td>[0.911542, 0.9119345, 108.9888472, 108.9892793]</td>\n",
       "      <td>0.9117382</td>\n",
       "      <td>108.98906325913244</td>\n",
       "      <td>Bank Mandiri, Jalan Merpati, Singkawang Barat,...</td>\n",
       "      <td>30</td>\n",
       "      <td>amenity</td>\n",
       "      <td>bank</td>\n",
       "      <td>0.20001</td>\n",
       "      <td>https://nominatim.openstreetmap.org/ui/mapicon...</td>\n",
       "    </tr>\n",
       "  </tbody>\n",
       "</table>\n",
       "</div>"
      ],
      "text/plain": [
       "    place_id                                            licence  osm_type  \\\n",
       "0  245125008  Data © OpenStreetMap contributors, ODbL 1.0. h...       way   \n",
       "1   55824089  Data © OpenStreetMap contributors, ODbL 1.0. h...      node   \n",
       "2   72239364  Data © OpenStreetMap contributors, ODbL 1.0. h...      node   \n",
       "3   79750640  Data © OpenStreetMap contributors, ODbL 1.0. h...      node   \n",
       "4  209243978  Data © OpenStreetMap contributors, ODbL 1.0. h...       way   \n",
       "5  177914945  Data © OpenStreetMap contributors, ODbL 1.0. h...       way   \n",
       "6   98218938  Data © OpenStreetMap contributors, ODbL 1.0. h...      node   \n",
       "7  308644899  Data © OpenStreetMap contributors, ODbL 1.0. h...  relation   \n",
       "8  219048301  Data © OpenStreetMap contributors, ODbL 1.0. h...       way   \n",
       "9  300663591  Data © OpenStreetMap contributors, ODbL 1.0. h...       way   \n",
       "\n",
       "       osm_id                                        boundingbox         lat  \\\n",
       "0   684313287   [0.1827953, 0.1833935, 117.4754085, 117.4759825]   0.1830904   \n",
       "1  5033751698  [-6.1639016, -6.1638016, 106.7235232, 106.7236...  -6.1638516   \n",
       "2  6936087685  [-6.2146751, -6.2145751, 106.8176007, 106.8177...  -6.2146251   \n",
       "3  7913586716  [-7.2627911, -7.2626911, 112.7404652, 112.7405...  -7.2627411   \n",
       "4   448077587   [-7.2550974, -7.2549272, 112.750415, 112.750619]  -7.2550123   \n",
       "5   288727130      [3.584758, 3.5851141, 98.6804849, 98.6808765]    3.584936   \n",
       "6  9784316424  [-5.4409008, -5.4408008, 105.2737511, 105.2738...  -5.4408508   \n",
       "7     7626146  [-0.8837767, -0.8830311, 131.2766067, 131.2775...  -0.8833952   \n",
       "8   508001865  [-0.8845244, -0.8842222, 131.2864172, 131.2867...  -0.8843733   \n",
       "9  1069452298    [0.911542, 0.9119345, 108.9888472, 108.9892793]   0.9117382   \n",
       "\n",
       "                  lon                                       display_name  \\\n",
       "0  117.47569484044689  Bank Mandiri, BRI, dan BNI, Guntung, Bontang, ...   \n",
       "1         106.7235732  Bank Mandiri, Jalan Dharma Kencana, RW 11, Tam...   \n",
       "2         106.8176507  Bank Mandiri, Jalan Jenderal Sudirman, RW 02, ...   \n",
       "3         112.7405152  Bank Mandiri, Jalan Mergoyoso, RW 10, Kedungdo...   \n",
       "4          112.750517  Bank Mandiri, Jalan Ambengan Batu II, RW 04, T...   \n",
       "5   98.68068070377787  Bank Mandiri, Jalan Ahmad Yani, Kesawan, Medan...   \n",
       "6         105.2738011  Bank Mandiri, Jalan Kapten Haji Ahmad Ibrahim,...   \n",
       "7  131.27734738611014  Bank Mandiri, Jalan Yos Sudarso, SORONG, Klali...   \n",
       "8    131.286568350132  Bank Mandiri, Jalan Basuki Rahmat, SORONG, Mal...   \n",
       "9  108.98906325913244  Bank Mandiri, Jalan Merpati, Singkawang Barat,...   \n",
       "\n",
       "   place_rank category        type  importance  \\\n",
       "0          22  landuse  commercial     0.40001   \n",
       "1          30  amenity        bank     0.20001   \n",
       "2          30  amenity        bank     0.20001   \n",
       "3          30  amenity        bank     0.20001   \n",
       "4          30  amenity        bank     0.20001   \n",
       "5          30  tourism  attraction     0.20001   \n",
       "6          30  amenity         atm     0.20001   \n",
       "7          30  amenity        bank     0.20001   \n",
       "8          30  amenity        bank     0.20001   \n",
       "9          30  amenity        bank     0.20001   \n",
       "\n",
       "                                                icon  \n",
       "0                                                NaN  \n",
       "1  https://nominatim.openstreetmap.org/ui/mapicon...  \n",
       "2  https://nominatim.openstreetmap.org/ui/mapicon...  \n",
       "3  https://nominatim.openstreetmap.org/ui/mapicon...  \n",
       "4  https://nominatim.openstreetmap.org/ui/mapicon...  \n",
       "5  https://nominatim.openstreetmap.org/ui/mapicon...  \n",
       "6  https://nominatim.openstreetmap.org/ui/mapicon...  \n",
       "7  https://nominatim.openstreetmap.org/ui/mapicon...  \n",
       "8  https://nominatim.openstreetmap.org/ui/mapicon...  \n",
       "9  https://nominatim.openstreetmap.org/ui/mapicon...  "
      ]
     },
     "execution_count": 144,
     "metadata": {},
     "output_type": "execute_result"
    }
   ],
   "source": [
    "pd.concat(dfs, ignore_index=True)"
   ]
  },
  {
   "cell_type": "code",
   "execution_count": 28,
   "id": "771291f5-1890-4395-bcc7-17886d07703b",
   "metadata": {},
   "outputs": [
    {
     "data": {
      "text/plain": [
       "'Bank Mandiri, Jalan Kali Sekertariat, RW 01, Tanjung Duren Utara, Grogol Petamburan, Jakarta Barat, Daerah Khusus Ibukota Jakarta, 11450, Indonesia'"
      ]
     },
     "execution_count": 28,
     "metadata": {},
     "output_type": "execute_result"
    }
   ],
   "source": [
    "df['display_name'][2]"
   ]
  },
  {
   "cell_type": "code",
   "execution_count": 32,
   "id": "bfd7b130-52a5-4a5e-a66c-6170d99991bb",
   "metadata": {},
   "outputs": [
    {
     "data": {
      "text/plain": [
       "'Bank+Mandiri'"
      ]
     },
     "execution_count": 32,
     "metadata": {},
     "output_type": "execute_result"
    }
   ],
   "source": [
    "q "
   ]
  },
  {
   "cell_type": "code",
   "execution_count": 31,
   "id": "094c98b8-f647-4704-98e2-d01e67dcf101",
   "metadata": {},
   "outputs": [
    {
     "name": "stdout",
     "output_type": "stream",
     "text": [
      "On branch master\n",
      "Your branch is up to date with 'origin/master'.\n",
      "\n",
      "Changes not staged for commit:\n",
      "  (use \"git add <file>...\" to update what will be committed)\n",
      "  (use \"git restore <file>...\" to discard changes in working directory)\n",
      "\tmodified:   Scrapping Bank.ipynb\n",
      "\n",
      "no changes added to commit (use \"git add\" and/or \"git commit -a\")\n"
     ]
    }
   ],
   "source": []
  },
  {
   "cell_type": "code",
   "execution_count": 36,
   "id": "368dad48-2027-43a9-abf0-d15dc6df40d6",
   "metadata": {},
   "outputs": [],
   "source": [
    "param = {\n",
    "'url' : 'https://nominatim.openstreetmap.org/search.php?q=',\n",
    "'q' : 'Bank+Mandiri',\n",
    "'format' : 'jsonv2'\n",
    "}"
   ]
  },
  {
   "cell_type": "code",
   "execution_count": 38,
   "id": "432f7e1e-d4eb-4379-acac-bfc27af4aeca",
   "metadata": {},
   "outputs": [
    {
     "data": {
      "text/plain": [
       "'https://nominatim.openstreetmap.org/search.php?q='"
      ]
     },
     "execution_count": 38,
     "metadata": {},
     "output_type": "execute_result"
    }
   ],
   "source": [
    "param['url']"
   ]
  },
  {
   "cell_type": "code",
   "execution_count": 51,
   "id": "f0c7f894-1a5c-4673-a51b-f0d323eb4ee3",
   "metadata": {},
   "outputs": [
    {
     "name": "stdout",
     "output_type": "stream",
     "text": [
      "Scrapping Bank Mandiri starting :\n",
      "Scrapping Bank Mandiri Has Finished\n",
      "Scrapping Bank BNI starting :\n",
      "Scrapping Bank BNI Has Finished\n",
      "Scrapping Bank BRI starting :\n",
      "Scrapping Bank BRI Has Finished\n",
      "Scrapping Bank BCA starting :\n",
      "Scrapping Bank BCA Has Finished\n",
      "Scrapping Maybank Indonesia starting :\n",
      "Scrapping Maybank Indonesia Has Finished\n",
      "Scrapping HSBC Indonesia starting :\n",
      "Scrapping HSBC Indonesia Has Finished\n"
     ]
    }
   ],
   "source": [
    "import pandas as pd \n",
    "import numpy as np \n",
    "import requests\n",
    "from bs4 import BeautifulSoup as bs\n",
    "import os \n",
    "\n",
    "url = 'https://nominatim.openstreetmap.org/search.php?q='\n",
    "bank_name = ['Bank Mandiri', 'Bank BNI', 'Bank BRI', 'Bank BCA', 'Maybank Indonesia', 'HSBC Indonesia']\n",
    "#bank_name = ['Bank Mandiri']\n",
    "\n",
    "for i in range(len(bank_name)) :\n",
    "    label = bank_name[i]\n",
    "    s = bank_name[i].split()\n",
    "    q = s[0]+'+'+s[1]\n",
    "    \n",
    "    print('Scrapping '+label+' starting :')\n",
    "    #q = 'Bank+Mandiri'\n",
    "    format = 'jsonv2'\n",
    "    id = []\n",
    "    dfs = []\n",
    "    s = 0\n",
    "\n",
    "    while True :\n",
    "        if len(id) == 0 :\n",
    "            endpoint = url+q+'&'+'format='+format\n",
    "            response = requests.get(endpoint)\n",
    "            resp = response.json()\n",
    "            for i in range(len(resp)-1):\n",
    "                id.append(resp[i]['place_id'])\n",
    "            df = pd.DataFrame(resp)\n",
    "            dfs.append(df)\n",
    "            print('row_count :', len(dfs), end='\\r')\n",
    "        else :\n",
    "            endpoint = url+q+'&'+\"exclude_place_ids=\"\n",
    "            for i in range(len(id)-1):\n",
    "                endpoint = endpoint + str(id[i]) + '%2C'\n",
    "            endpoint = endpoint + str(id[len(id)-1])+'&format='+format\n",
    "            response = requests.get(endpoint)\n",
    "            resp = response.json()\n",
    "            if len(resp) == 0 :\n",
    "                break\n",
    "            if resp[0]['display_name'].split(',')[0].upper() == label.upper() or len(resp) != 1:\n",
    "                for i in range(len(resp)):\n",
    "                    id.append(resp[i]['place_id'])\n",
    "                df = pd.DataFrame(resp)\n",
    "                dfs.append(df)\n",
    "                print('row_count :', len(dfs), end='\\r')\n",
    "            else :\n",
    "                break\n",
    "\n",
    "    data = pd.concat(dfs, ignore_index=True)\n",
    "    database = data[['display_name','type','lat','lon']]\n",
    "    database = database.loc[database['type'] == 'bank']\n",
    "    database = database.reset_index(drop=True)\n",
    "    display_name = database['display_name'].str.split(',')\n",
    "\n",
    "    #split Label name\n",
    "    alamat = []\n",
    "    country = []\n",
    "    provinsi = []\n",
    "    kota = []\n",
    "    zip = []\n",
    "    bank = []\n",
    "\n",
    "    city_one = ['Bali','Lampung','Maluku','Banten','Riau','Aceh','Bengkulu','Jambi']\n",
    "\n",
    "    for i in range(len(display_name)):\n",
    "        bank.append(display_name[i][0].strip().upper())\n",
    "        if len(display_name[i][-2].strip().split(' ')) != 1 :\n",
    "            zip.append('0')\n",
    "        else :\n",
    "            zip.append(display_name[i][-2].strip())\n",
    "        country.append(display_name[i][-1].strip())\n",
    "        if len(display_name[i][1].strip().split(' ')) == 1 :\n",
    "            alamat.append(display_name[i][2].strip())\n",
    "        else : \n",
    "            alamat.append(display_name[i][1].strip())\n",
    "        if len(display_name[i][-3].strip().split(' ')) == 1 and display_name[i][-3].strip() not in city_one:\n",
    "            if len(display_name[i][-2].strip().split(' ')) == 2 or display_name[i][-2].strip() in city_one :\n",
    "                kota.append(display_name[i][-3].strip())\n",
    "                provinsi.append(display_name[i][-2].strip())\n",
    "            else :\n",
    "                kota.append(display_name[i][-5].strip())\n",
    "                provinsi.append(display_name[i][-4].strip())\n",
    "        else :\n",
    "            kota.append(display_name[i][-4].strip())\n",
    "            provinsi.append(display_name[i][-3].strip())\n",
    "\n",
    "    database['alamat'] = alamat\n",
    "    database['zip'] = zip\n",
    "    database['bank'] = bank \n",
    "    database['country'] = country\n",
    "    database['provinsi'] = provinsi\n",
    "    database['kota'] = kota\n",
    "    database['lat'] = database['lat'].astype('float64')\n",
    "    database['lon'] = database['lon'].astype('float64')\n",
    "    \n",
    "    os.remove(label+'.csv')\n",
    "    os.remove(label+'.xlsx')\n",
    "    database.to_csv(label+'.csv', index=False)\n",
    "    database.to_excel(label+'.xlsx', index=False)\n",
    "    \n",
    "    print('Scrapping '+label+' Has Finished')"
   ]
  },
  {
   "cell_type": "code",
   "execution_count": 84,
   "id": "ef76a902-579c-4c0c-a292-aaff9ec0648b",
   "metadata": {},
   "outputs": [],
   "source": [
    "database = data[['display_name','type','lat','lon']]\n",
    "database = database.loc[database['type'] == 'bank']"
   ]
  },
  {
   "cell_type": "code",
   "execution_count": 181,
   "id": "d3cbf62a-6850-4e82-b493-e988e7024206",
   "metadata": {},
   "outputs": [
    {
     "name": "stdin",
     "output_type": "stream",
     "text": [
      " Bank Mandiri\n"
     ]
    },
    {
     "data": {
      "text/plain": [
       "'Bank+Mandiri'"
      ]
     },
     "execution_count": 181,
     "metadata": {},
     "output_type": "execute_result"
    }
   ],
   "source": [
    "q = ['Bank Mandiri']\n",
    "r = input(str())\n",
    "r = r.split(' ')\n",
    "r[0]+'+'+r[1]"
   ]
  },
  {
   "cell_type": "code",
   "execution_count": 176,
   "id": "eb736527-837f-4d82-b93e-8e04544105ba",
   "metadata": {},
   "outputs": [
    {
     "data": {
      "text/plain": [
       "'Bank+Mandiri'"
      ]
     },
     "execution_count": 176,
     "metadata": {},
     "output_type": "execute_result"
    }
   ],
   "source": [
    "s = q[0].split(' ')\n",
    "s[0]+'+'+s[1]"
   ]
  },
  {
   "cell_type": "code",
   "execution_count": 6,
   "id": "7d778c6a-4c8f-432e-8ef6-884f34040379",
   "metadata": {},
   "outputs": [],
   "source": [
    "alamat = []\n",
    "for i in range(len(display_name)):\n",
    "    if len(display_name[i]) == 10 :\n",
    "        if len(display_name[i][1]) <= 2 :\n",
    "            alamat.append(display_name[i][2].strip())\n",
    "        else : \n",
    "            alamat.append(display_name[i][1].strip())\n",
    "        country.append(display_name[i][-1].strip())\n",
    "        provinsi.append(display_name[i][-4].strip())\n",
    "        kota.append(display_name[i][-5].strip())\n",
    "        zip.append(display_name[i][-2].strip())\n",
    "        bank.append(display_name[i][0].strip().upper())\n",
    "    if len(display_name[i]) == 9 :\n",
    "        alamat.append(display_name[i][1].strip())\n",
    "        country.append(display_name[i][-1].strip())\n",
    "        zip.append(display_name[i][-2].strip())\n",
    "        bank.append(display_name[i][0].strip().upper())\n",
    "        if len(display_name[i][-3]) < 10 : \n",
    "            if len(display_name[i][-4]) < 8 : \n",
    "                provinsi.append(display_name[i][-5].strip())\n",
    "                kota.append(display_name[i][-6].strip())\n",
    "            else : \n",
    "                provinsi.append(display_name[i][-4].strip())\n",
    "                kota.append(display_name[i][-5].strip())\n",
    "        else :\n",
    "            provinsi.append(display_name[i][-3].strip())\n",
    "            kota.append(display_name[i][-4].strip())\n",
    "    if len(display_name[i]) == 8 :\n",
    "        alamat.append(display_name[i][1].strip())\n",
    "        country.append(display_name[i][-1].strip())\n",
    "        zip.append(display_name[i][-2].strip())\n",
    "        bank.append(display_name[i][0].strip().upper())\n",
    "        if len(display_name[i][-3].split()) == 2:\n",
    "            provinsi.append(display_name[i][-3].strip())\n",
    "            kota.append(display_name[i][-4].strip())\n",
    "        elif len(display_name[i][-3].split()) == 1 : \n",
    "            provinsi.append(display_name[i][-4].strip())\n",
    "            kota.append(display_name[i][-5].strip())\n",
    "        else :\n",
    "            provinsi.append(display_name[i][-3].strip())\n",
    "            kota.append(display_name[i][-4].strip())\n",
    "    if len(display_name[i]) == 7 :\n",
    "        alamat.append(display_name[i][1].strip())\n",
    "        country.append(display_name[i][-1].strip())\n",
    "        provinsi.append(display_name[i][-3].strip())\n",
    "        kota.append(display_name[i][-4].strip())\n",
    "        zip.append(display_name[i][-2].strip())\n",
    "        bank.append(display_name[i][0].strip().upper())\n",
    "    if len(display_name[i]) == 6 :\n",
    "        alamat.append(display_name[i][1].strip())\n",
    "        country.append(display_name[i][-1].strip())\n",
    "        zip.append(display_name[i][-2].strip())\n",
    "        bank.append(display_name[i][0].strip().upper())\n",
    "        if len(display_name[i][-3].split()) == 2:\n",
    "            provinsi.append(display_name[i][-3].strip())\n",
    "            kota.append(display_name[i][-4].strip())\n",
    "        elif len(display_name[i][-3].split()) == 1 : \n",
    "            provinsi.append(display_name[i][-4].strip())\n",
    "            kota.append(display_name[i][-5].strip())\n",
    "        else :\n",
    "            provinsi.append(display_name[i][-3].strip())\n",
    "            kota.append(display_name[i][-4].strip())\n",
    "    if len(display_name[i]) == 5 :\n",
    "        alamat.append(display_name[i][1].strip())\n",
    "        country.append(display_name[i][-1].strip())\n",
    "        zip.append(display_name[i][-2].strip())\n",
    "        bank.append(display_name[i][0].strip().upper())\n",
    "        if len(display_name[i][-3].split()) == 2:\n",
    "            provinsi.append(display_name[i][-3].strip())\n",
    "            kota.append(display_name[i][-4].strip())\n",
    "        elif len(display_name[i][-3].split()) == 1 : \n",
    "            provinsi.append(display_name[i][-4].strip())\n",
    "            kota.append(display_name[i][-5].strip())\n",
    "        else :\n",
    "            provinsi.append(display_name[i][-3].strip())\n",
    "            kota.append(display_name[i][-4].strip())\n",
    "    if len(display_name[i]) >= 12 :\n",
    "        alamat.append(display_name[i][1].strip())\n",
    "        country.append(display_name[i][-1].strip())\n",
    "        zip.append(display_name[i][-2].strip())\n",
    "        bank.append(display_name[i][0].strip().upper())\n",
    "        if len(display_name[i][-3].split()) == 2:\n",
    "            provinsi.append(display_name[i][-3].strip())\n",
    "            kota.append(display_name[i][-4].strip())\n",
    "        elif len(display_name[i][-3].split()) == 1 : \n",
    "            provinsi.append(display_name[i][-4].strip())\n",
    "            kota.append(display_name[i][-5].strip())\n",
    "        else :\n",
    "            provinsi.append(display_name[i][-3].strip())\n",
    "            kota.append(display_name[i][-4].strip())\n",
    "    if len(display_name[i]) == 11 :\n",
    "        alamat.append(display_name[i][1].strip())\n",
    "        country.append(display_name[i][-1].strip())\n",
    "        zip.append(display_name[i][-2].strip())\n",
    "        bank.append(display_name[i][0].strip().upper())\n",
    "        if len(display_name[i][-3].split()) == 2:\n",
    "            provinsi.append(display_name[i][-3].strip())\n",
    "            kota.append(display_name[i][-4].strip())\n",
    "        elif len(display_name[i][-3].split()) == 1 : \n",
    "            provinsi.append(display_name[i][-4].strip())\n",
    "            kota.append(display_name[i][-5].strip())\n",
    "        else :\n",
    "            provinsi.append(display_name[i][-3].strip())\n",
    "            kota.append(display_name[i][-4].strip())\n",
    "    "
   ]
  },
  {
   "cell_type": "code",
   "execution_count": 150,
   "id": "c4e78d59-39fc-4e47-9c95-bb94ab451a09",
   "metadata": {},
   "outputs": [],
   "source": [
    "database = database.reset_index(drop=True)"
   ]
  },
  {
   "cell_type": "code",
   "execution_count": 331,
   "id": "e5ccda97-c3c4-4422-953b-56408841c475",
   "metadata": {},
   "outputs": [
    {
     "data": {
      "text/plain": [
       "558"
      ]
     },
     "execution_count": 331,
     "metadata": {},
     "output_type": "execute_result"
    }
   ],
   "source": [
    "len(database)"
   ]
  },
  {
   "cell_type": "code",
   "execution_count": 153,
   "id": "caa6ba35-e44a-47e5-a2bc-514844ca352d",
   "metadata": {},
   "outputs": [],
   "source": [
    "display_name = database['display_name'].str.split(',')"
   ]
  },
  {
   "cell_type": "code",
   "execution_count": 156,
   "id": "89256e7d-3658-424d-92ea-e65409414b77",
   "metadata": {},
   "outputs": [
    {
     "name": "stdout",
     "output_type": "stream",
     "text": [
      "10\n",
      "9\n",
      "9\n",
      "8\n",
      "8\n",
      "8\n",
      "7\n",
      "10\n",
      "9\n",
      "9\n",
      "9\n",
      "9\n",
      "9\n",
      "7\n",
      "7\n",
      "8\n",
      "9\n",
      "9\n",
      "8\n",
      "10\n",
      "9\n",
      "8\n"
     ]
    }
   ],
   "source": [
    "for i in range(len(display_name)):\n",
    "    print(len(display_name[i]))"
   ]
  },
  {
   "cell_type": "code",
   "execution_count": 360,
   "id": "284a49b0-4cde-4cc5-81dd-db04d9a0d181",
   "metadata": {},
   "outputs": [
    {
     "data": {
      "text/plain": [
       "'Bank Mandiri, Jalan Kantor, Cirebon, Jawa Barat, Jawa, 45118, Indonesia'"
      ]
     },
     "execution_count": 360,
     "metadata": {},
     "output_type": "execute_result"
    }
   ],
   "source": [
    "database['display_name'][556]."
   ]
  },
  {
   "cell_type": "code",
   "execution_count": 328,
   "id": "30df324f-0d31-4e0b-b4b7-1a942e5c9697",
   "metadata": {},
   "outputs": [
    {
     "data": {
      "text/plain": [
       "range(0, 558)"
      ]
     },
     "execution_count": 328,
     "metadata": {},
     "output_type": "execute_result"
    }
   ],
   "source": [
    "range(len(display_name))"
   ]
  },
  {
   "cell_type": "code",
   "execution_count": 277,
   "id": "7c2328c7-82d1-4773-a27c-98b7cb5a9ec2",
   "metadata": {},
   "outputs": [],
   "source": [
    "alamat = []\n",
    "country = []\n",
    "provinsi = []\n",
    "kota = []\n",
    "zip = []\n",
    "for i in range(len(display_name)):\n",
    "    if len(display_name[i]) == 10 :\n",
    "        if len(display_name[i][1]) <= 2 :\n",
    "            alamat.append(display_name[i][2].strip())\n",
    "        else : \n",
    "            alamat.append(display_name[i][1].strip())\n",
    "        country.append(display_name[i][-1].strip())\n",
    "        provinsi.append(display_name[i][-4].strip())\n",
    "        kota.append(display_name[i][-5].strip())\n",
    "        zip.append(display_name[i][-2].strip())\n",
    "    if len(display_name[i]) == 9 :\n",
    "        alamat.append(display_name[i][1].strip())\n",
    "        country.append(display_name[i][-1].strip())\n",
    "        zip.append(display_name[i][-2].strip())\n",
    "        if len(display_name[i][-3]) < 10 : \n",
    "            if len(display_name[i][-4]) < 8 : \n",
    "                provinsi.append(display_name[i][-5].strip())\n",
    "                kota.append(display_name[i][-6].strip())\n",
    "            else : \n",
    "                provinsi.append(display_name[i][-4].strip())\n",
    "                kota.append(display_name[i][-5].strip())\n",
    "        else :\n",
    "            provinsi.append(display_name[i][-3].strip())\n",
    "            kota.append(display_name[i][-4].strip())\n",
    "    if len(display_name[i]) == 8 :\n",
    "        alamat.append(display_name[i][1].strip())\n",
    "        country.append(display_name[i][-1].strip())\n",
    "        zip.append(display_name[i][-2].strip())\n",
    "        if len(display_name[i][-3].split()) == 2 :\n",
    "            provinsi.append(display_name[i][-3].strip())\n",
    "            kota.append(display_name[i][-4].strip())\n",
    "        elif len(display_name[i][-3].split()) == 1 : \n",
    "            provinsi.append(display_name[i][-4].strip())\n",
    "            kota.append(display_name[i][-5].strip())\n",
    "        else :\n",
    "            provinsi.append(display_name[i][-3].strip())\n",
    "            kota.append(display_name[i][-4].strip())\n",
    "    if len(display_name[i]) == 7 :\n",
    "        alamat.append(display_name[i][1].strip())\n",
    "        country.append(display_name[i][-1].strip())\n",
    "        provinsi.append(display_name[i][-3].strip())\n",
    "        kota.append(display_name[i][-4].strip())\n",
    "        zip.append(display_name[i][-2].strip())"
   ]
  },
  {
   "cell_type": "code",
   "execution_count": 238,
   "id": "bb9e447a-efa2-42fb-8479-69fe8b348882",
   "metadata": {},
   "outputs": [],
   "source": [
    "database['alamat'] = alamat"
   ]
  },
  {
   "cell_type": "code",
   "execution_count": 272,
   "id": "6a3229f1-2577-4b84-9d92-3eacd1b65d24",
   "metadata": {},
   "outputs": [
    {
     "data": {
      "text/plain": [
       "['Bank Mandiri',\n",
       " ' Jalan Citra Megah Raya I',\n",
       " ' Loktabat Selatan',\n",
       " ' Banjarbaru',\n",
       " ' Kalimantan Selatan',\n",
       " ' Kalimantan',\n",
       " ' 70712',\n",
       " ' Indonesia']"
      ]
     },
     "execution_count": 272,
     "metadata": {},
     "output_type": "execute_result"
    }
   ],
   "source": [
    "display_name[15]"
   ]
  },
  {
   "cell_type": "code",
   "execution_count": 274,
   "id": "4d05a7c6-95cc-490c-aaac-1ea5c12f84b5",
   "metadata": {},
   "outputs": [
    {
     "data": {
      "text/plain": [
       "2"
      ]
     },
     "execution_count": 274,
     "metadata": {},
     "output_type": "execute_result"
    }
   ],
   "source": [
    "len(display_name[3][-3].split())"
   ]
  },
  {
   "cell_type": "code",
   "execution_count": 192,
   "id": "15a43d5b-a54c-4d18-953c-b846c315391d",
   "metadata": {},
   "outputs": [
    {
     "data": {
      "text/plain": [
       "'Daerah Khusus Ibukota Jakarta'"
      ]
     },
     "execution_count": 192,
     "metadata": {},
     "output_type": "execute_result"
    }
   ],
   "source": [
    "display_name[1][-3].strip()"
   ]
  },
  {
   "cell_type": "code",
   "execution_count": 236,
   "id": "11b2a817-d6e1-4f03-9f4a-cc8522ba4ead",
   "metadata": {},
   "outputs": [
    {
     "data": {
      "text/plain": [
       "['11850',\n",
       " '10220',\n",
       " '60011',\n",
       " '60136',\n",
       " '98411',\n",
       " '98412',\n",
       " '79113',\n",
       " '10340',\n",
       " '12120',\n",
       " '11450',\n",
       " '20111',\n",
       " '20112',\n",
       " '20212',\n",
       " '25119',\n",
       " '79113',\n",
       " '70712',\n",
       " '10440',\n",
       " '13310',\n",
       " '68118',\n",
       " '46211',\n",
       " '23111',\n",
       " '70712']"
      ]
     },
     "execution_count": 236,
     "metadata": {},
     "output_type": "execute_result"
    }
   ],
   "source": [
    "zip"
   ]
  },
  {
   "cell_type": "code",
   "execution_count": 278,
   "id": "2d9d478f-543d-4951-96de-1c9db0275b5c",
   "metadata": {},
   "outputs": [
    {
     "data": {
      "text/html": [
       "<div>\n",
       "<style scoped>\n",
       "    .dataframe tbody tr th:only-of-type {\n",
       "        vertical-align: middle;\n",
       "    }\n",
       "\n",
       "    .dataframe tbody tr th {\n",
       "        vertical-align: top;\n",
       "    }\n",
       "\n",
       "    .dataframe thead th {\n",
       "        text-align: right;\n",
       "    }\n",
       "</style>\n",
       "<table border=\"1\" class=\"dataframe\">\n",
       "  <thead>\n",
       "    <tr style=\"text-align: right;\">\n",
       "      <th></th>\n",
       "      <th>display_name</th>\n",
       "      <th>type</th>\n",
       "      <th>lat</th>\n",
       "      <th>lon</th>\n",
       "      <th>alamat</th>\n",
       "      <th>provinsi</th>\n",
       "      <th>kota</th>\n",
       "      <th>zip</th>\n",
       "      <th>bank</th>\n",
       "    </tr>\n",
       "  </thead>\n",
       "  <tbody>\n",
       "    <tr>\n",
       "      <th>0</th>\n",
       "      <td>Bank Mandiri, 5, Jalan Haji Agus Salim, RW 01,...</td>\n",
       "      <td>bank</td>\n",
       "      <td>-6.1840198</td>\n",
       "      <td>106.8241168643947</td>\n",
       "      <td>Jalan Dharma Kencana</td>\n",
       "      <td>Daerah Khusus Ibukota Jakarta</td>\n",
       "      <td>Jakarta Barat</td>\n",
       "      <td>11850</td>\n",
       "      <td>BANK MANDIRI</td>\n",
       "    </tr>\n",
       "    <tr>\n",
       "      <th>1</th>\n",
       "      <td>Bank Mandiri, Jalan Dharma Kencana, RW 11, Tam...</td>\n",
       "      <td>bank</td>\n",
       "      <td>-6.1638516</td>\n",
       "      <td>106.7235732</td>\n",
       "      <td>Jalan Jenderal Sudirman</td>\n",
       "      <td>Daerah Khusus Ibukota Jakarta</td>\n",
       "      <td>Jakarta Pusat</td>\n",
       "      <td>10220</td>\n",
       "      <td>BANK MANDIRI</td>\n",
       "    </tr>\n",
       "    <tr>\n",
       "      <th>2</th>\n",
       "      <td>Bank Mandiri, Jalan Jenderal Sudirman, RW 02, ...</td>\n",
       "      <td>bank</td>\n",
       "      <td>-6.2146251</td>\n",
       "      <td>106.8176507</td>\n",
       "      <td>Jalan Mergoyoso</td>\n",
       "      <td>Jawa Timur</td>\n",
       "      <td>Surabaya</td>\n",
       "      <td>60011</td>\n",
       "      <td>BANK MANDIRI</td>\n",
       "    </tr>\n",
       "    <tr>\n",
       "      <th>3</th>\n",
       "      <td>Bank Mandiri, Jalan Ambengan Batu II, RW 04, T...</td>\n",
       "      <td>bank</td>\n",
       "      <td>-7.2550123</td>\n",
       "      <td>112.750517</td>\n",
       "      <td>Jalan Ambengan Batu II</td>\n",
       "      <td>Jawa Timur</td>\n",
       "      <td>Surabaya</td>\n",
       "      <td>60136</td>\n",
       "      <td>BANK MANDIRI</td>\n",
       "    </tr>\n",
       "    <tr>\n",
       "      <th>4</th>\n",
       "      <td>Bank Mandiri, Jalan Mergoyoso, RW 10, Kedungdo...</td>\n",
       "      <td>bank</td>\n",
       "      <td>-7.2627411</td>\n",
       "      <td>112.7405152</td>\n",
       "      <td>Jalan Yos Sudarso</td>\n",
       "      <td>Papua Barat Daya</td>\n",
       "      <td>Sorong</td>\n",
       "      <td>98411</td>\n",
       "      <td>BANK MANDIRI</td>\n",
       "    </tr>\n",
       "    <tr>\n",
       "      <th>5</th>\n",
       "      <td>Bank Mandiri, Jalan Yos Sudarso, SORONG, Klali...</td>\n",
       "      <td>bank</td>\n",
       "      <td>-0.8833952</td>\n",
       "      <td>131.27734738611014</td>\n",
       "      <td>Jalan Basuki Rahmat</td>\n",
       "      <td>Papua Barat Daya</td>\n",
       "      <td>Sorong</td>\n",
       "      <td>98412</td>\n",
       "      <td>BANK MANDIRI</td>\n",
       "    </tr>\n",
       "    <tr>\n",
       "      <th>6</th>\n",
       "      <td>Bank Mandiri, Jalan Basuki Rahmat, SORONG, Mal...</td>\n",
       "      <td>bank</td>\n",
       "      <td>-0.8843733</td>\n",
       "      <td>131.286568350132</td>\n",
       "      <td>Jalan Merpati</td>\n",
       "      <td>Kalimantan Barat</td>\n",
       "      <td>Singkawang</td>\n",
       "      <td>79113</td>\n",
       "      <td>BANK MANDIRI</td>\n",
       "    </tr>\n",
       "    <tr>\n",
       "      <th>7</th>\n",
       "      <td>Bank Mandiri, Jalan Merpati, Singkawang Barat,...</td>\n",
       "      <td>bank</td>\n",
       "      <td>0.9117382</td>\n",
       "      <td>108.98906325913244</td>\n",
       "      <td>Jalan Haji Agus Salim</td>\n",
       "      <td>Jakarta Pusat</td>\n",
       "      <td>Menteng</td>\n",
       "      <td>10340</td>\n",
       "      <td>BANK MANDIRI</td>\n",
       "    </tr>\n",
       "    <tr>\n",
       "      <th>8</th>\n",
       "      <td>Bank Mandiri, Jalan Kyai Maja, RW 01, Kramat P...</td>\n",
       "      <td>bank</td>\n",
       "      <td>-6.2421455</td>\n",
       "      <td>106.7909657</td>\n",
       "      <td>Jalan Kyai Maja</td>\n",
       "      <td>Daerah Khusus Ibukota Jakarta</td>\n",
       "      <td>Jakarta Selatan</td>\n",
       "      <td>12120</td>\n",
       "      <td>BANK MANDIRI</td>\n",
       "    </tr>\n",
       "    <tr>\n",
       "      <th>9</th>\n",
       "      <td>Bank Mandiri, Jalan Kali Sekertariat, RW 01, T...</td>\n",
       "      <td>bank</td>\n",
       "      <td>-6.1668058</td>\n",
       "      <td>106.7853755</td>\n",
       "      <td>Jalan Kali Sekertariat</td>\n",
       "      <td>Daerah Khusus Ibukota Jakarta</td>\n",
       "      <td>Jakarta Barat</td>\n",
       "      <td>11450</td>\n",
       "      <td>BANK MANDIRI</td>\n",
       "    </tr>\n",
       "    <tr>\n",
       "      <th>10</th>\n",
       "      <td>Bank Mandiri, Jalan Imam Bonjol, Little India,...</td>\n",
       "      <td>bank</td>\n",
       "      <td>3.5873374</td>\n",
       "      <td>98.67420657480304</td>\n",
       "      <td>Jalan Imam Bonjol</td>\n",
       "      <td>Sumatera Utara</td>\n",
       "      <td>Kota Medan</td>\n",
       "      <td>20111</td>\n",
       "      <td>BANK MANDIRI</td>\n",
       "    </tr>\n",
       "    <tr>\n",
       "      <th>11</th>\n",
       "      <td>Bank Mandiri, Jalan S. Parman, Petisah Tengah,...</td>\n",
       "      <td>bank</td>\n",
       "      <td>3.5865129</td>\n",
       "      <td>98.6672647</td>\n",
       "      <td>Jalan S. Parman</td>\n",
       "      <td>Sumatera Utara</td>\n",
       "      <td>Kota Medan</td>\n",
       "      <td>20112</td>\n",
       "      <td>BANK MANDIRI</td>\n",
       "    </tr>\n",
       "    <tr>\n",
       "      <th>12</th>\n",
       "      <td>Bank Mandiri, Jalan Gereja, Belakang Tangsi, P...</td>\n",
       "      <td>bank</td>\n",
       "      <td>-0.95727125</td>\n",
       "      <td>100.35648994390378</td>\n",
       "      <td>Jalan Ahmad Yani</td>\n",
       "      <td>Sumatera Utara</td>\n",
       "      <td>Kota Medan</td>\n",
       "      <td>20212</td>\n",
       "      <td>BANK MANDIRI</td>\n",
       "    </tr>\n",
       "    <tr>\n",
       "      <th>13</th>\n",
       "      <td>Bank Mandiri, Jalan Merpati, Singkawang Barat,...</td>\n",
       "      <td>bank</td>\n",
       "      <td>0.9117382</td>\n",
       "      <td>108.98906325913244</td>\n",
       "      <td>Jalan Gereja</td>\n",
       "      <td>Sumatera Barat</td>\n",
       "      <td>Padang</td>\n",
       "      <td>25119</td>\n",
       "      <td>BANK MANDIRI</td>\n",
       "    </tr>\n",
       "    <tr>\n",
       "      <th>14</th>\n",
       "      <td>Bank Mandiri, Jalan Citra Megah Raya I, Loktab...</td>\n",
       "      <td>bank</td>\n",
       "      <td>-3.4424728</td>\n",
       "      <td>114.8224404</td>\n",
       "      <td>Jalan Merpati</td>\n",
       "      <td>Kalimantan Barat</td>\n",
       "      <td>Singkawang</td>\n",
       "      <td>79113</td>\n",
       "      <td>BANK MANDIRI</td>\n",
       "    </tr>\n",
       "    <tr>\n",
       "      <th>15</th>\n",
       "      <td>Bank Mandiri, Gang Jubleg, RW 05, Paseban, Sen...</td>\n",
       "      <td>bank</td>\n",
       "      <td>-6.1938301</td>\n",
       "      <td>106.8507816</td>\n",
       "      <td>Jalan Citra Megah Raya I</td>\n",
       "      <td>Kalimantan</td>\n",
       "      <td>Kalimantan Selatan</td>\n",
       "      <td>70712</td>\n",
       "      <td>BANK MANDIRI</td>\n",
       "    </tr>\n",
       "    <tr>\n",
       "      <th>16</th>\n",
       "      <td>Bank Mandiri, Jalan Jatinegara Timur, RW 04, B...</td>\n",
       "      <td>bank</td>\n",
       "      <td>-6.21810375</td>\n",
       "      <td>106.86775374999999</td>\n",
       "      <td>Gang Jubleg</td>\n",
       "      <td>Daerah Khusus Ibukota Jakarta</td>\n",
       "      <td>Jakarta Pusat</td>\n",
       "      <td>10440</td>\n",
       "      <td>BANK MANDIRI</td>\n",
       "    </tr>\n",
       "    <tr>\n",
       "      <th>17</th>\n",
       "      <td>Bank Mandiri, Jalan Arif Rahman Hakim, Sukaram...</td>\n",
       "      <td>bank</td>\n",
       "      <td>3.5859123</td>\n",
       "      <td>98.7054449</td>\n",
       "      <td>Jalan Jatinegara Timur</td>\n",
       "      <td>Daerah Khusus Ibukota Jakarta</td>\n",
       "      <td>Jakarta Timur</td>\n",
       "      <td>13310</td>\n",
       "      <td>BANK MANDIRI</td>\n",
       "    </tr>\n",
       "    <tr>\n",
       "      <th>18</th>\n",
       "      <td>Bank Mandiri, Jalan Sisingamangaraja, Darat Se...</td>\n",
       "      <td>bank</td>\n",
       "      <td>-0.02637005</td>\n",
       "      <td>109.34212009485174</td>\n",
       "      <td>Jalan Shortcut Citarum</td>\n",
       "      <td>Jawa Timur</td>\n",
       "      <td>Jember</td>\n",
       "      <td>68118</td>\n",
       "      <td>BANK MANDIRI</td>\n",
       "    </tr>\n",
       "    <tr>\n",
       "      <th>19</th>\n",
       "      <td>Bank Mandiri, Jalan Shortcut Citarum, Tegal Ge...</td>\n",
       "      <td>bank</td>\n",
       "      <td>-8.1690081</td>\n",
       "      <td>113.70338274160672</td>\n",
       "      <td>Jalan Jenderal Sudirman</td>\n",
       "      <td>Jawa Barat</td>\n",
       "      <td>Ciamis</td>\n",
       "      <td>46211</td>\n",
       "      <td>BANK MANDIRI</td>\n",
       "    </tr>\n",
       "    <tr>\n",
       "      <th>20</th>\n",
       "      <td>Bank Mandiri, Jalan Jenderal Sudirman, RT 01, ...</td>\n",
       "      <td>bank</td>\n",
       "      <td>-7.326201</td>\n",
       "      <td>108.34217672640756</td>\n",
       "      <td>Jalan Lamreung</td>\n",
       "      <td>Aceh Besar</td>\n",
       "      <td>Krueng Barona Jaya</td>\n",
       "      <td>23111</td>\n",
       "      <td>BANK MANDIRI</td>\n",
       "    </tr>\n",
       "    <tr>\n",
       "      <th>21</th>\n",
       "      <td>BANK MANDIRI, Jalan Lamreung, Doi, Krueng Baro...</td>\n",
       "      <td>bank</td>\n",
       "      <td>5.5516562</td>\n",
       "      <td>95.3551175</td>\n",
       "      <td>Jalan Citra Megah Raya I</td>\n",
       "      <td>Kalimantan</td>\n",
       "      <td>Kalimantan Selatan</td>\n",
       "      <td>70712</td>\n",
       "      <td>BANK MANDIRI</td>\n",
       "    </tr>\n",
       "  </tbody>\n",
       "</table>\n",
       "</div>"
      ],
      "text/plain": [
       "                                         display_name  type          lat  \\\n",
       "0   Bank Mandiri, 5, Jalan Haji Agus Salim, RW 01,...  bank   -6.1840198   \n",
       "1   Bank Mandiri, Jalan Dharma Kencana, RW 11, Tam...  bank   -6.1638516   \n",
       "2   Bank Mandiri, Jalan Jenderal Sudirman, RW 02, ...  bank   -6.2146251   \n",
       "3   Bank Mandiri, Jalan Ambengan Batu II, RW 04, T...  bank   -7.2550123   \n",
       "4   Bank Mandiri, Jalan Mergoyoso, RW 10, Kedungdo...  bank   -7.2627411   \n",
       "5   Bank Mandiri, Jalan Yos Sudarso, SORONG, Klali...  bank   -0.8833952   \n",
       "6   Bank Mandiri, Jalan Basuki Rahmat, SORONG, Mal...  bank   -0.8843733   \n",
       "7   Bank Mandiri, Jalan Merpati, Singkawang Barat,...  bank    0.9117382   \n",
       "8   Bank Mandiri, Jalan Kyai Maja, RW 01, Kramat P...  bank   -6.2421455   \n",
       "9   Bank Mandiri, Jalan Kali Sekertariat, RW 01, T...  bank   -6.1668058   \n",
       "10  Bank Mandiri, Jalan Imam Bonjol, Little India,...  bank    3.5873374   \n",
       "11  Bank Mandiri, Jalan S. Parman, Petisah Tengah,...  bank    3.5865129   \n",
       "12  Bank Mandiri, Jalan Gereja, Belakang Tangsi, P...  bank  -0.95727125   \n",
       "13  Bank Mandiri, Jalan Merpati, Singkawang Barat,...  bank    0.9117382   \n",
       "14  Bank Mandiri, Jalan Citra Megah Raya I, Loktab...  bank   -3.4424728   \n",
       "15  Bank Mandiri, Gang Jubleg, RW 05, Paseban, Sen...  bank   -6.1938301   \n",
       "16  Bank Mandiri, Jalan Jatinegara Timur, RW 04, B...  bank  -6.21810375   \n",
       "17  Bank Mandiri, Jalan Arif Rahman Hakim, Sukaram...  bank    3.5859123   \n",
       "18  Bank Mandiri, Jalan Sisingamangaraja, Darat Se...  bank  -0.02637005   \n",
       "19  Bank Mandiri, Jalan Shortcut Citarum, Tegal Ge...  bank   -8.1690081   \n",
       "20  Bank Mandiri, Jalan Jenderal Sudirman, RT 01, ...  bank    -7.326201   \n",
       "21  BANK MANDIRI, Jalan Lamreung, Doi, Krueng Baro...  bank    5.5516562   \n",
       "\n",
       "                   lon                    alamat  \\\n",
       "0    106.8241168643947      Jalan Dharma Kencana   \n",
       "1          106.7235732   Jalan Jenderal Sudirman   \n",
       "2          106.8176507           Jalan Mergoyoso   \n",
       "3           112.750517    Jalan Ambengan Batu II   \n",
       "4          112.7405152         Jalan Yos Sudarso   \n",
       "5   131.27734738611014       Jalan Basuki Rahmat   \n",
       "6     131.286568350132             Jalan Merpati   \n",
       "7   108.98906325913244     Jalan Haji Agus Salim   \n",
       "8          106.7909657           Jalan Kyai Maja   \n",
       "9          106.7853755    Jalan Kali Sekertariat   \n",
       "10   98.67420657480304         Jalan Imam Bonjol   \n",
       "11          98.6672647           Jalan S. Parman   \n",
       "12  100.35648994390378          Jalan Ahmad Yani   \n",
       "13  108.98906325913244              Jalan Gereja   \n",
       "14         114.8224404             Jalan Merpati   \n",
       "15         106.8507816  Jalan Citra Megah Raya I   \n",
       "16  106.86775374999999               Gang Jubleg   \n",
       "17          98.7054449    Jalan Jatinegara Timur   \n",
       "18  109.34212009485174    Jalan Shortcut Citarum   \n",
       "19  113.70338274160672   Jalan Jenderal Sudirman   \n",
       "20  108.34217672640756            Jalan Lamreung   \n",
       "21          95.3551175  Jalan Citra Megah Raya I   \n",
       "\n",
       "                         provinsi                kota    zip          bank  \n",
       "0   Daerah Khusus Ibukota Jakarta       Jakarta Barat  11850  BANK MANDIRI  \n",
       "1   Daerah Khusus Ibukota Jakarta       Jakarta Pusat  10220  BANK MANDIRI  \n",
       "2                      Jawa Timur            Surabaya  60011  BANK MANDIRI  \n",
       "3                      Jawa Timur            Surabaya  60136  BANK MANDIRI  \n",
       "4                Papua Barat Daya              Sorong  98411  BANK MANDIRI  \n",
       "5                Papua Barat Daya              Sorong  98412  BANK MANDIRI  \n",
       "6                Kalimantan Barat          Singkawang  79113  BANK MANDIRI  \n",
       "7                   Jakarta Pusat             Menteng  10340  BANK MANDIRI  \n",
       "8   Daerah Khusus Ibukota Jakarta     Jakarta Selatan  12120  BANK MANDIRI  \n",
       "9   Daerah Khusus Ibukota Jakarta       Jakarta Barat  11450  BANK MANDIRI  \n",
       "10                 Sumatera Utara          Kota Medan  20111  BANK MANDIRI  \n",
       "11                 Sumatera Utara          Kota Medan  20112  BANK MANDIRI  \n",
       "12                 Sumatera Utara          Kota Medan  20212  BANK MANDIRI  \n",
       "13                 Sumatera Barat              Padang  25119  BANK MANDIRI  \n",
       "14               Kalimantan Barat          Singkawang  79113  BANK MANDIRI  \n",
       "15                     Kalimantan  Kalimantan Selatan  70712  BANK MANDIRI  \n",
       "16  Daerah Khusus Ibukota Jakarta       Jakarta Pusat  10440  BANK MANDIRI  \n",
       "17  Daerah Khusus Ibukota Jakarta       Jakarta Timur  13310  BANK MANDIRI  \n",
       "18                     Jawa Timur              Jember  68118  BANK MANDIRI  \n",
       "19                     Jawa Barat              Ciamis  46211  BANK MANDIRI  \n",
       "20                     Aceh Besar  Krueng Barona Jaya  23111  BANK MANDIRI  \n",
       "21                     Kalimantan  Kalimantan Selatan  70712  BANK MANDIRI  "
      ]
     },
     "execution_count": 278,
     "metadata": {},
     "output_type": "execute_result"
    }
   ],
   "source": [
    "database"
   ]
  },
  {
   "cell_type": "code",
   "execution_count": 279,
   "id": "659cc861-aa44-48e8-8591-e64527462edd",
   "metadata": {},
   "outputs": [
    {
     "data": {
      "text/plain": [
       "1"
      ]
     },
     "execution_count": 279,
     "metadata": {},
     "output_type": "execute_result"
    }
   ],
   "source": [
    "len(display_name[21][-3].split())"
   ]
  },
  {
   "cell_type": "code",
   "execution_count": 293,
   "id": "fabf266f-3567-4cc6-90fa-d4aa3135fb75",
   "metadata": {},
   "outputs": [],
   "source": [
    "data = pd.concat(dfs, ignore_index=True)"
   ]
  },
  {
   "cell_type": "code",
   "execution_count": 300,
   "id": "b51a6a0c-e6cd-4669-b797-165e1ee03f91",
   "metadata": {},
   "outputs": [
    {
     "data": {
      "text/plain": [
       "0      Bank Mandiri, BRI, dan BNI, Guntung, Bontang, ...\n",
       "1      Bank Mandiri, 5, Jalan Haji Agus Salim, RW 01,...\n",
       "2      Bank Mandiri, Jalan Dharma Kencana, RW 11, Tam...\n",
       "3      Bank Mandiri, Jalan Jenderal Sudirman, RW 02, ...\n",
       "4      Bank Mandiri, Jalan Ambengan Batu II, RW 04, T...\n",
       "                             ...                        \n",
       "758    Bank Mandiri, Jalan WR. Supratman, Kesiman Ker...\n",
       "760    Bank Mandiri, Jalan MH Thamrin, Bone, Watampon...\n",
       "761    Bank Mandiri, Jalan Teuku Umar, Tanjungpinang ...\n",
       "762    Bank Mandiri, Jalan Jenderal Sudirman, Ruko Ko...\n",
       "763    Bank Mandiri, Jalan Kantor, Cirebon, Jawa Bara...\n",
       "Name: display_name, Length: 723, dtype: object"
      ]
     },
     "execution_count": 300,
     "metadata": {},
     "output_type": "execute_result"
    }
   ],
   "source": [
    "data['display_name'].loc[data['display_name'].str.split(',').str[0] == 'Bank Mandiri']"
   ]
  },
  {
   "cell_type": "code",
   "execution_count": 303,
   "id": "57a60556-5405-4915-89a9-302381be3c66",
   "metadata": {},
   "outputs": [],
   "source": [
    "datas = data"
   ]
  },
  {
   "cell_type": "code",
   "execution_count": 317,
   "id": "ea8320f8-4b51-492d-8b67-f92304be7df1",
   "metadata": {},
   "outputs": [
    {
     "data": {
      "text/plain": [
       "'MANDIRI ATM'"
      ]
     },
     "execution_count": 317,
     "metadata": {},
     "output_type": "execute_result"
    }
   ],
   "source": [
    "resp[0]['display_name'].split(',')[0].upper()"
   ]
  },
  {
   "cell_type": "code",
   "execution_count": 316,
   "id": "4cc473e5-d38e-493f-befb-fcd72278bee7",
   "metadata": {},
   "outputs": [],
   "source": [
    "datas.to_csv('Bank Mandiri Backup.csv')"
   ]
  },
  {
   "cell_type": "code",
   "execution_count": 318,
   "id": "058762ba-520a-4305-be58-2b3ca0336874",
   "metadata": {},
   "outputs": [
    {
     "data": {
      "text/plain": [
       "9539"
      ]
     },
     "execution_count": 318,
     "metadata": {},
     "output_type": "execute_result"
    }
   ],
   "source": [
    "len(dfs)"
   ]
  },
  {
   "cell_type": "code",
   "execution_count": 78,
   "id": "8265e727-dbaf-4e48-a5e7-460fbc460baf",
   "metadata": {},
   "outputs": [],
   "source": [
    "alamat = []\n",
    "country = []\n",
    "provinsi = []\n",
    "kota = []\n",
    "zip = []\n",
    "bank = []\n",
    "\n",
    "for i in range(len(display_name)):\n",
    "    if len(display_name[i]) == 10 :\n",
    "        if len(display_name[i][1].strip().split(' ')) == 1 :\n",
    "            alamat.append(display_name[i][2].strip())\n",
    "        else : \n",
    "            alamat.append(display_name[i][1].strip())\n",
    "        country.append(display_name[i][-1].strip())\n",
    "        provinsi.append(display_name[i][-4].strip())\n",
    "        kota.append(display_name[i][-5].strip())\n",
    "        zip.append(display_name[i][-2].strip())\n",
    "        bank.append(display_name[i][0].strip().upper())\n",
    "    if len(display_name[i]) == 9 :\n",
    "        if len(display_name[i][1].strip().split(' ')) == 1 :\n",
    "            alamat.append(display_name[i][2].strip())\n",
    "        else : \n",
    "            alamat.append(display_name[i][1].strip())\n",
    "        country.append(display_name[i][-1].strip())\n",
    "        zip.append(display_name[i][-2].strip())\n",
    "        bank.append(display_name[i][0].strip().upper())\n",
    "        if len(display_name[i][-3]) < 10 : \n",
    "            if len(display_name[i][-4]) < 8 : \n",
    "                provinsi.append(display_name[i][-5].strip())\n",
    "                kota.append(display_name[i][-6].strip())\n",
    "            else : \n",
    "                provinsi.append(display_name[i][-4].strip())\n",
    "                kota.append(display_name[i][-5].strip())\n",
    "        else :\n",
    "            provinsi.append(display_name[i][-3].strip())\n",
    "            kota.append(display_name[i][-4].strip())\n",
    "    if len(display_name[i]) == 8 :\n",
    "        alamat.append(display_name[i][1].strip())\n",
    "        country.append(display_name[i][-1].strip())\n",
    "        zip.append(display_name[i][-2].strip())\n",
    "        bank.append(display_name[i][0].strip().upper())\n",
    "        if len(display_name[i][-3].split()) == 2:\n",
    "            provinsi.append(display_name[i][-3].strip())\n",
    "            kota.append(display_name[i][-4].strip())\n",
    "        elif len(display_name[i][-3].split()) == 1 : \n",
    "            provinsi.append(display_name[i][-4].strip())\n",
    "            kota.append(display_name[i][-5].strip())\n",
    "        else :\n",
    "            provinsi.append(display_name[i][-3].strip())\n",
    "            kota.append(display_name[i][-4].strip())\n",
    "    if len(display_name[i]) == 7 :\n",
    "        alamat.append(display_name[i][1].strip())\n",
    "        country.append(display_name[i][-1].strip())\n",
    "        provinsi.append(display_name[i][-3].strip())\n",
    "        kota.append(display_name[i][-4].strip())\n",
    "        zip.append(display_name[i][-2].strip())\n",
    "        bank.append(display_name[i][0].strip().upper())\n",
    "    if len(display_name[i]) == 6 :\n",
    "        alamat.append(display_name[i][1].strip())\n",
    "        country.append(display_name[i][-1].strip())\n",
    "        zip.append(display_name[i][-2].strip())\n",
    "        bank.append(display_name[i][0].strip().upper())\n",
    "        if len(display_name[i][-3].split()) == 2:\n",
    "            provinsi.append(display_name[i][-3].strip())\n",
    "            kota.append(display_name[i][-4].strip())\n",
    "        elif len(display_name[i][-3].split()) == 1 : \n",
    "            provinsi.append(display_name[i][-4].strip())\n",
    "            kota.append(display_name[i][-5].strip())\n",
    "        else :\n",
    "            provinsi.append(display_name[i][-3].strip())\n",
    "            kota.append(display_name[i][-4].strip())\n",
    "    if len(display_name[i]) == 5 :\n",
    "        alamat.append(display_name[i][1].strip())\n",
    "        country.append(display_name[i][-1].strip())\n",
    "        zip.append(display_name[i][-2].strip())\n",
    "        bank.append(display_name[i][0].strip().upper())\n",
    "        if len(display_name[i][-3].split()) == 2:\n",
    "            provinsi.append(display_name[i][-3].strip())\n",
    "            kota.append(display_name[i][-4].strip())\n",
    "        elif len(display_name[i][-3].split()) == 1 : \n",
    "            provinsi.append(display_name[i][-4].strip())\n",
    "            kota.append(display_name[i][-5].strip())\n",
    "        else :\n",
    "            provinsi.append(display_name[i][-3].strip())\n",
    "            kota.append(display_name[i][-4].strip())\n",
    "    if len(display_name[i]) >= 12 :\n",
    "        alamat.append(display_name[i][1].strip())\n",
    "        country.append(display_name[i][-1].strip())\n",
    "        zip.append(display_name[i][-2].strip())\n",
    "        bank.append(display_name[i][0].strip().upper())\n",
    "        if len(display_name[i][-3].split()) == 2:\n",
    "            provinsi.append(display_name[i][-3].strip())\n",
    "            kota.append(display_name[i][-4].strip())\n",
    "        elif len(display_name[i][-3].split()) == 1 : \n",
    "            provinsi.append(display_name[i][-4].strip())\n",
    "            kota.append(display_name[i][-5].strip())\n",
    "        else :\n",
    "            provinsi.append(display_name[i][-3].strip())\n",
    "            kota.append(display_name[i][-4].strip())\n",
    "    if len(display_name[i]) == 11 :\n",
    "        alamat.append(display_name[i][1].strip())\n",
    "        country.append(display_name[i][-1].strip())\n",
    "        zip.append(display_name[i][-2].strip())\n",
    "        bank.append(display_name[i][0].strip().upper())\n",
    "        if len(display_name[i][-3].split()) == 2:\n",
    "            provinsi.append(display_name[i][-3].strip())\n",
    "            kota.append(display_name[i][-4].strip())\n",
    "        elif len(display_name[i][-3].split()) == 1 : \n",
    "            provinsi.append(display_name[i][-4].strip())\n",
    "            kota.append(display_name[i][-5].strip())\n",
    "        else :\n",
    "            provinsi.append(display_name[i][-3].strip())\n",
    "            kota.append(display_name[i][-4].strip())\n",
    "\n",
    "        \n",
    "database['alamat'] = alamat\n",
    "database['provinsi'] = provinsi\n",
    "database['kota'] = kota\n",
    "database['zip'] = zip\n",
    "database['bank'] = bank "
   ]
  },
  {
   "cell_type": "code",
   "execution_count": 59,
   "id": "b3cd5f45-1018-4a04-8264-d095abbc5697",
   "metadata": {},
   "outputs": [],
   "source": [
    "#for i in range(len(database['alamat'])):\n",
    "    \n",
    "#   print(database['alamat'].str.split(' ')[i])\n",
    "if len(display_name[0][2].strip().split(' ')) == 1 :\n",
    "    print('True')\n"
   ]
  },
  {
   "cell_type": "code",
   "execution_count": 162,
   "id": "d683fd23-fa88-4c64-af67-22f1a0b6502e",
   "metadata": {},
   "outputs": [],
   "source": [
    "alamat = []\n",
    "country = []\n",
    "provinsi = []\n",
    "kota = []\n",
    "zip = []\n",
    "bank = []\n",
    "city_one = ['Bali','Lampung','Maluku','Banten','Riau','Aceh','Bengkulu','Jambi']\n",
    "\n",
    "for i in range(len(display_name)):\n",
    "    bank.append(display_name[i][0].strip().upper())\n",
    "    if len(display_name[i][-2].strip().split(' ')) != 1 :\n",
    "        zip.append('0')\n",
    "    else :\n",
    "        zip.append(display_name[i][-2].strip())\n",
    "    country.append(display_name[i][-1].strip())\n",
    "    if len(display_name[i][1].strip().split(' ')) == 1 :\n",
    "        alamat.append(display_name[i][2].strip())\n",
    "    else : \n",
    "        alamat.append(display_name[i][1].strip())\n",
    "    if len(display_name[i][-3].strip().split(' ')) == 1 and display_name[i][-3].strip() not in city_one:\n",
    "        if len(display_name[i][-2].strip().split(' ')) == 2 or display_name[i][-2].strip() in city_one :\n",
    "            kota.append(display_name[i][-3].strip())\n",
    "            provinsi.append(display_name[i][-2].strip())\n",
    "        else :\n",
    "            kota.append(display_name[i][-5].strip())\n",
    "            provinsi.append(display_name[i][-4].strip())\n",
    "    else :\n",
    "        kota.append(display_name[i][-4].strip())\n",
    "        provinsi.append(display_name[i][-3].strip())\n",
    "\n",
    "database['alamat'] = alamat\n",
    "database['zip'] = zip\n",
    "database['bank'] = bank \n",
    "database['country'] = country\n",
    "database['provinsi'] = provinsi\n",
    "database['kota'] = kota"
   ]
  },
  {
   "cell_type": "code",
   "execution_count": 111,
   "id": "b364e870-ae74-49ff-ab7e-4b7a12fcf676",
   "metadata": {},
   "outputs": [
    {
     "data": {
      "text/plain": [
       "'Bank Mandiri, Jalan Kantor, Cirebon, Jawa Barat, Jawa, 45118, Indonesia'"
      ]
     },
     "execution_count": 111,
     "metadata": {},
     "output_type": "execute_result"
    }
   ],
   "source": [
    "database['display_name'][551]"
   ]
  },
  {
   "cell_type": "code",
   "execution_count": 115,
   "id": "1ad9f055-5c82-4466-80ec-043dfd2666b0",
   "metadata": {},
   "outputs": [
    {
     "data": {
      "text/plain": [
       "'Cirebon'"
      ]
     },
     "execution_count": 115,
     "metadata": {},
     "output_type": "execute_result"
    }
   ],
   "source": [
    "display_name[551][-5].strip()"
   ]
  },
  {
   "cell_type": "code",
   "execution_count": 155,
   "id": "68f6d751-7c98-4c57-aaa5-9b119e3622d5",
   "metadata": {},
   "outputs": [
    {
     "data": {
      "text/html": [
       "<div>\n",
       "<style scoped>\n",
       "    .dataframe tbody tr th:only-of-type {\n",
       "        vertical-align: middle;\n",
       "    }\n",
       "\n",
       "    .dataframe tbody tr th {\n",
       "        vertical-align: top;\n",
       "    }\n",
       "\n",
       "    .dataframe thead th {\n",
       "        text-align: right;\n",
       "    }\n",
       "</style>\n",
       "<table border=\"1\" class=\"dataframe\">\n",
       "  <thead>\n",
       "    <tr style=\"text-align: right;\">\n",
       "      <th></th>\n",
       "      <th>display_name</th>\n",
       "      <th>type</th>\n",
       "      <th>lat</th>\n",
       "      <th>lon</th>\n",
       "      <th>alamat</th>\n",
       "      <th>provinsi</th>\n",
       "      <th>kota</th>\n",
       "      <th>zip</th>\n",
       "      <th>bank</th>\n",
       "      <th>country</th>\n",
       "    </tr>\n",
       "  </thead>\n",
       "  <tbody>\n",
       "    <tr>\n",
       "      <th>499</th>\n",
       "      <td>Bank Mandiri, Jalan Sultan Thaha, Kelurahan Wi...</td>\n",
       "      <td>bank</td>\n",
       "      <td>-1.3088661</td>\n",
       "      <td>102.1075256</td>\n",
       "      <td>Jalan Sultan Thaha</td>\n",
       "      <td>Tebo</td>\n",
       "      <td>Kelurahan Wirotho Agung</td>\n",
       "      <td>37253</td>\n",
       "      <td>BANK MANDIRI</td>\n",
       "      <td>Indonesia</td>\n",
       "    </tr>\n",
       "  </tbody>\n",
       "</table>\n",
       "</div>"
      ],
      "text/plain": [
       "                                          display_name  type         lat  \\\n",
       "499  Bank Mandiri, Jalan Sultan Thaha, Kelurahan Wi...  bank  -1.3088661   \n",
       "\n",
       "             lon              alamat provinsi                     kota    zip  \\\n",
       "499  102.1075256  Jalan Sultan Thaha     Tebo  Kelurahan Wirotho Agung  37253   \n",
       "\n",
       "             bank    country  \n",
       "499  BANK MANDIRI  Indonesia  "
      ]
     },
     "execution_count": 155,
     "metadata": {},
     "output_type": "execute_result"
    }
   ],
   "source": [
    "database.loc[database['provinsi'] == 'Tebo']"
   ]
  },
  {
   "cell_type": "code",
   "execution_count": 156,
   "id": "edd2f59a-16da-463c-93d3-4181dbb3f5cf",
   "metadata": {},
   "outputs": [
    {
     "data": {
      "text/plain": [
       "'Bank Mandiri, Jalan Sultan Thaha, Kelurahan Wirotho Agung, Tebo, Jambi, 37253, Indonesia'"
      ]
     },
     "execution_count": 156,
     "metadata": {},
     "output_type": "execute_result"
    }
   ],
   "source": [
    "database['display_name'][499]"
   ]
  },
  {
   "cell_type": "code",
   "execution_count": 62,
   "id": "225d8572-efe4-43bd-b79b-9c13e06e93af",
   "metadata": {},
   "outputs": [
    {
     "data": {
      "text/plain": [
       "10"
      ]
     },
     "execution_count": 62,
     "metadata": {},
     "output_type": "execute_result"
    }
   ],
   "source": []
  },
  {
   "cell_type": "code",
   "execution_count": 163,
   "id": "149ba407-8381-4474-a84b-037c40a791cc",
   "metadata": {},
   "outputs": [
    {
     "data": {
      "text/html": [
       "<div>\n",
       "<style scoped>\n",
       "    .dataframe tbody tr th:only-of-type {\n",
       "        vertical-align: middle;\n",
       "    }\n",
       "\n",
       "    .dataframe tbody tr th {\n",
       "        vertical-align: top;\n",
       "    }\n",
       "\n",
       "    .dataframe thead th {\n",
       "        text-align: right;\n",
       "    }\n",
       "</style>\n",
       "<table border=\"1\" class=\"dataframe\">\n",
       "  <thead>\n",
       "    <tr style=\"text-align: right;\">\n",
       "      <th></th>\n",
       "      <th>display_name</th>\n",
       "      <th>type</th>\n",
       "      <th>lat</th>\n",
       "      <th>lon</th>\n",
       "      <th>alamat</th>\n",
       "      <th>provinsi</th>\n",
       "      <th>kota</th>\n",
       "      <th>zip</th>\n",
       "      <th>bank</th>\n",
       "      <th>country</th>\n",
       "    </tr>\n",
       "  </thead>\n",
       "  <tbody>\n",
       "    <tr>\n",
       "      <th>0</th>\n",
       "      <td>Bank Mandiri, 5, Jalan Haji Agus Salim, RW 01,...</td>\n",
       "      <td>bank</td>\n",
       "      <td>-6.1840198</td>\n",
       "      <td>106.8241168643947</td>\n",
       "      <td>Jalan Haji Agus Salim</td>\n",
       "      <td>Daerah Khusus Ibukota Jakarta</td>\n",
       "      <td>Jakarta Pusat</td>\n",
       "      <td>10340</td>\n",
       "      <td>BANK MANDIRI</td>\n",
       "      <td>Indonesia</td>\n",
       "    </tr>\n",
       "    <tr>\n",
       "      <th>1</th>\n",
       "      <td>Bank Mandiri, Jalan Dharma Kencana, RW 11, Tam...</td>\n",
       "      <td>bank</td>\n",
       "      <td>-6.1638516</td>\n",
       "      <td>106.7235732</td>\n",
       "      <td>Jalan Dharma Kencana</td>\n",
       "      <td>Daerah Khusus Ibukota Jakarta</td>\n",
       "      <td>Jakarta Barat</td>\n",
       "      <td>11850</td>\n",
       "      <td>BANK MANDIRI</td>\n",
       "      <td>Indonesia</td>\n",
       "    </tr>\n",
       "    <tr>\n",
       "      <th>2</th>\n",
       "      <td>Bank Mandiri, Jalan Jenderal Sudirman, RW 02, ...</td>\n",
       "      <td>bank</td>\n",
       "      <td>-6.2146251</td>\n",
       "      <td>106.8176507</td>\n",
       "      <td>Jalan Jenderal Sudirman</td>\n",
       "      <td>Daerah Khusus Ibukota Jakarta</td>\n",
       "      <td>Jakarta Pusat</td>\n",
       "      <td>10220</td>\n",
       "      <td>BANK MANDIRI</td>\n",
       "      <td>Indonesia</td>\n",
       "    </tr>\n",
       "    <tr>\n",
       "      <th>3</th>\n",
       "      <td>Bank Mandiri, Jalan Ambengan Batu II, RW 04, T...</td>\n",
       "      <td>bank</td>\n",
       "      <td>-7.2550123</td>\n",
       "      <td>112.750517</td>\n",
       "      <td>Jalan Ambengan Batu II</td>\n",
       "      <td>Jawa Timur</td>\n",
       "      <td>Surabaya</td>\n",
       "      <td>60136</td>\n",
       "      <td>BANK MANDIRI</td>\n",
       "      <td>Indonesia</td>\n",
       "    </tr>\n",
       "    <tr>\n",
       "      <th>4</th>\n",
       "      <td>Bank Mandiri, Jalan Mergoyoso, RW 10, Kedungdo...</td>\n",
       "      <td>bank</td>\n",
       "      <td>-7.2627411</td>\n",
       "      <td>112.7405152</td>\n",
       "      <td>Jalan Mergoyoso</td>\n",
       "      <td>Jawa Timur</td>\n",
       "      <td>Surabaya</td>\n",
       "      <td>60011</td>\n",
       "      <td>BANK MANDIRI</td>\n",
       "      <td>Indonesia</td>\n",
       "    </tr>\n",
       "    <tr>\n",
       "      <th>...</th>\n",
       "      <td>...</td>\n",
       "      <td>...</td>\n",
       "      <td>...</td>\n",
       "      <td>...</td>\n",
       "      <td>...</td>\n",
       "      <td>...</td>\n",
       "      <td>...</td>\n",
       "      <td>...</td>\n",
       "      <td>...</td>\n",
       "      <td>...</td>\n",
       "    </tr>\n",
       "    <tr>\n",
       "      <th>548</th>\n",
       "      <td>Bank Mandiri, Jalan MH Thamrin, Bone, Watampon...</td>\n",
       "      <td>bank</td>\n",
       "      <td>-4.5390251</td>\n",
       "      <td>120.3303282</td>\n",
       "      <td>Jalan MH Thamrin</td>\n",
       "      <td>Sulawesi Selatan</td>\n",
       "      <td>Watampone</td>\n",
       "      <td>92712</td>\n",
       "      <td>BANK MANDIRI</td>\n",
       "      <td>Indonesia</td>\n",
       "    </tr>\n",
       "    <tr>\n",
       "      <th>549</th>\n",
       "      <td>Bank Mandiri, Jalan Panglima Besar Sudirman, N...</td>\n",
       "      <td>bank</td>\n",
       "      <td>-6.9211998</td>\n",
       "      <td>106.9225435</td>\n",
       "      <td>Jalan Panglima Besar Sudirman</td>\n",
       "      <td>Jawa Barat</td>\n",
       "      <td>Sukabumi</td>\n",
       "      <td>43111</td>\n",
       "      <td>BANK MANDIRI</td>\n",
       "      <td>Indonesia</td>\n",
       "    </tr>\n",
       "    <tr>\n",
       "      <th>550</th>\n",
       "      <td>Bank Mandiri, Jalan Teuku Umar, Tanjungpinang ...</td>\n",
       "      <td>bank</td>\n",
       "      <td>0.9299299</td>\n",
       "      <td>104.4429408</td>\n",
       "      <td>Jalan Teuku Umar</td>\n",
       "      <td>Kepulauan Riau</td>\n",
       "      <td>Tanjungpinang</td>\n",
       "      <td>29112</td>\n",
       "      <td>BANK MANDIRI</td>\n",
       "      <td>Indonesia</td>\n",
       "    </tr>\n",
       "    <tr>\n",
       "      <th>551</th>\n",
       "      <td>Bank Mandiri, Jalan Kantor, Cirebon, Jawa Bara...</td>\n",
       "      <td>bank</td>\n",
       "      <td>-6.718067</td>\n",
       "      <td>108.57006976243545</td>\n",
       "      <td>Jalan Kantor</td>\n",
       "      <td>Jawa Barat</td>\n",
       "      <td>Cirebon</td>\n",
       "      <td>45118</td>\n",
       "      <td>BANK MANDIRI</td>\n",
       "      <td>Indonesia</td>\n",
       "    </tr>\n",
       "    <tr>\n",
       "      <th>552</th>\n",
       "      <td>Mandiri, Jalan Abdul Haris Nasution, Cigending...</td>\n",
       "      <td>bank</td>\n",
       "      <td>-6.9132852</td>\n",
       "      <td>107.695072</td>\n",
       "      <td>Jalan Abdul Haris Nasution</td>\n",
       "      <td>Jawa Barat</td>\n",
       "      <td>Bandung</td>\n",
       "      <td>40614</td>\n",
       "      <td>MANDIRI</td>\n",
       "      <td>Indonesia</td>\n",
       "    </tr>\n",
       "  </tbody>\n",
       "</table>\n",
       "<p>553 rows × 10 columns</p>\n",
       "</div>"
      ],
      "text/plain": [
       "                                          display_name  type         lat  \\\n",
       "0    Bank Mandiri, 5, Jalan Haji Agus Salim, RW 01,...  bank  -6.1840198   \n",
       "1    Bank Mandiri, Jalan Dharma Kencana, RW 11, Tam...  bank  -6.1638516   \n",
       "2    Bank Mandiri, Jalan Jenderal Sudirman, RW 02, ...  bank  -6.2146251   \n",
       "3    Bank Mandiri, Jalan Ambengan Batu II, RW 04, T...  bank  -7.2550123   \n",
       "4    Bank Mandiri, Jalan Mergoyoso, RW 10, Kedungdo...  bank  -7.2627411   \n",
       "..                                                 ...   ...         ...   \n",
       "548  Bank Mandiri, Jalan MH Thamrin, Bone, Watampon...  bank  -4.5390251   \n",
       "549  Bank Mandiri, Jalan Panglima Besar Sudirman, N...  bank  -6.9211998   \n",
       "550  Bank Mandiri, Jalan Teuku Umar, Tanjungpinang ...  bank   0.9299299   \n",
       "551  Bank Mandiri, Jalan Kantor, Cirebon, Jawa Bara...  bank   -6.718067   \n",
       "552  Mandiri, Jalan Abdul Haris Nasution, Cigending...  bank  -6.9132852   \n",
       "\n",
       "                    lon                         alamat  \\\n",
       "0     106.8241168643947          Jalan Haji Agus Salim   \n",
       "1           106.7235732           Jalan Dharma Kencana   \n",
       "2           106.8176507        Jalan Jenderal Sudirman   \n",
       "3            112.750517         Jalan Ambengan Batu II   \n",
       "4           112.7405152                Jalan Mergoyoso   \n",
       "..                  ...                            ...   \n",
       "548         120.3303282               Jalan MH Thamrin   \n",
       "549         106.9225435  Jalan Panglima Besar Sudirman   \n",
       "550         104.4429408               Jalan Teuku Umar   \n",
       "551  108.57006976243545                   Jalan Kantor   \n",
       "552          107.695072     Jalan Abdul Haris Nasution   \n",
       "\n",
       "                          provinsi           kota    zip          bank  \\\n",
       "0    Daerah Khusus Ibukota Jakarta  Jakarta Pusat  10340  BANK MANDIRI   \n",
       "1    Daerah Khusus Ibukota Jakarta  Jakarta Barat  11850  BANK MANDIRI   \n",
       "2    Daerah Khusus Ibukota Jakarta  Jakarta Pusat  10220  BANK MANDIRI   \n",
       "3                       Jawa Timur       Surabaya  60136  BANK MANDIRI   \n",
       "4                       Jawa Timur       Surabaya  60011  BANK MANDIRI   \n",
       "..                             ...            ...    ...           ...   \n",
       "548               Sulawesi Selatan      Watampone  92712  BANK MANDIRI   \n",
       "549                     Jawa Barat       Sukabumi  43111  BANK MANDIRI   \n",
       "550                 Kepulauan Riau  Tanjungpinang  29112  BANK MANDIRI   \n",
       "551                     Jawa Barat        Cirebon  45118  BANK MANDIRI   \n",
       "552                     Jawa Barat        Bandung  40614       MANDIRI   \n",
       "\n",
       "       country  \n",
       "0    Indonesia  \n",
       "1    Indonesia  \n",
       "2    Indonesia  \n",
       "3    Indonesia  \n",
       "4    Indonesia  \n",
       "..         ...  \n",
       "548  Indonesia  \n",
       "549  Indonesia  \n",
       "550  Indonesia  \n",
       "551  Indonesia  \n",
       "552  Indonesia  \n",
       "\n",
       "[553 rows x 10 columns]"
      ]
     },
     "execution_count": 163,
     "metadata": {},
     "output_type": "execute_result"
    }
   ],
   "source": [
    "database"
   ]
  },
  {
   "cell_type": "code",
   "execution_count": 66,
   "id": "c7f21b47-2383-416f-969a-28684ddd8293",
   "metadata": {},
   "outputs": [
    {
     "name": "stdout",
     "output_type": "stream",
     "text": [
      " Jalan Haji Agus Salim\n"
     ]
    }
   ],
   "source": [
    "if len(display_name[0]) == 10 :\n",
    "        if len(display_name[0][1].strip().split(' ')) == 1 :\n",
    "            print(display_name[0][2])\n",
    "        else : \n",
    "            print(display_name[0][1])"
   ]
  },
  {
   "cell_type": "code",
   "execution_count": 65,
   "id": "657b77ee-c4f2-4965-b4b5-fc175343bdd3",
   "metadata": {},
   "outputs": [
    {
     "data": {
      "text/plain": [
       "['5']"
      ]
     },
     "execution_count": 65,
     "metadata": {},
     "output_type": "execute_result"
    }
   ],
   "source": [
    "display_name[0][1].strip().split(' ')"
   ]
  },
  {
   "cell_type": "code",
   "execution_count": 91,
   "id": "8c0b4f49-613c-44c7-bfa5-e2691adeb523",
   "metadata": {},
   "outputs": [],
   "source": [
    "s = database.loc[database['provinsi'] == 'Badung']"
   ]
  },
  {
   "cell_type": "code",
   "execution_count": 99,
   "id": "4dc7476a-7fa9-4ce5-8df0-71d2538e1848",
   "metadata": {},
   "outputs": [
    {
     "data": {
      "text/plain": [
       "'Bank Mandiri, Jalan Kartika Plaza, Tuban, Kuta, Badung, Bali, 80631, Indonesia'"
      ]
     },
     "execution_count": 99,
     "metadata": {},
     "output_type": "execute_result"
    }
   ],
   "source": [
    "s['display_name'][110]"
   ]
  },
  {
   "cell_type": "code",
   "execution_count": 2,
   "id": "df491a8f-5dff-4cfd-a801-091918e668d6",
   "metadata": {},
   "outputs": [],
   "source": [
    "bank_name = ['Bank Mandiri', 'Bank BNI', 'Bank BRI', 'Bank BCA', 'Maybank Indonesia', 'HSBC Indonesia']"
   ]
  },
  {
   "cell_type": "code",
   "execution_count": 8,
   "id": "5e589af7-5167-4ce5-8d66-6ae4cc214432",
   "metadata": {},
   "outputs": [
    {
     "name": "stdout",
     "output_type": "stream",
     "text": [
      "Bank+Mandiri\n",
      "Bank+BNI\n",
      "Bank+BRI\n",
      "Bank+BCA\n",
      "Maybank+Indonesia\n",
      "HSBC+Indonesia\n"
     ]
    }
   ],
   "source": [
    "for i in range(len(bank_name)) :\n",
    "    s = bank_name[i].split()\n",
    "    q = s[0]+'+'+s[1]\n",
    "    print(q)"
   ]
  },
  {
   "cell_type": "code",
   "execution_count": 11,
   "id": "028176dc-309b-47f0-b1d1-8a6e752c4129",
   "metadata": {},
   "outputs": [
    {
     "data": {
      "text/plain": [
       "'Bank Mandiri.csv'"
      ]
     },
     "execution_count": 11,
     "metadata": {},
     "output_type": "execute_result"
    }
   ],
   "source": [
    "\n",
    "label = bank_name[0]\n",
    "label+'.csv'"
   ]
  },
  {
   "cell_type": "code",
   "execution_count": 15,
   "id": "5d0dcfe3-77bb-4e50-9333-71b235ab1007",
   "metadata": {},
   "outputs": [],
   "source": [
    "database['lat'] = database['lat'].astype('float64')\n",
    "database['lon'] = database['lon'].astype('float64')"
   ]
  },
  {
   "cell_type": "code",
   "execution_count": 16,
   "id": "8aec2068-e046-4a14-8fd0-fced76a6b4da",
   "metadata": {},
   "outputs": [
    {
     "name": "stdout",
     "output_type": "stream",
     "text": [
      "<class 'pandas.core.frame.DataFrame'>\n",
      "RangeIndex: 553 entries, 0 to 552\n",
      "Data columns (total 10 columns):\n",
      " #   Column        Non-Null Count  Dtype  \n",
      "---  ------        --------------  -----  \n",
      " 0   display_name  553 non-null    object \n",
      " 1   type          553 non-null    object \n",
      " 2   lat           553 non-null    float64\n",
      " 3   lon           553 non-null    float64\n",
      " 4   alamat        553 non-null    object \n",
      " 5   zip           553 non-null    object \n",
      " 6   bank          553 non-null    object \n",
      " 7   country       553 non-null    object \n",
      " 8   provinsi      553 non-null    object \n",
      " 9   kota          553 non-null    object \n",
      "dtypes: float64(2), object(8)\n",
      "memory usage: 43.3+ KB\n"
     ]
    }
   ],
   "source": [
    "database.info()"
   ]
  },
  {
   "cell_type": "code",
   "execution_count": 18,
   "id": "e6142540-9629-43ac-a033-5835f1b41fc3",
   "metadata": {},
   "outputs": [
    {
     "name": "stdout",
     "output_type": "stream",
     "text": [
      "<class 'pandas.core.frame.DataFrame'>\n",
      "RangeIndex: 553 entries, 0 to 552\n",
      "Data columns (total 10 columns):\n",
      " #   Column        Non-Null Count  Dtype\n",
      "---  ------        --------------  -----\n",
      " 0   display_name  553 non-null    bool \n",
      " 1   type          553 non-null    bool \n",
      " 2   lat           553 non-null    bool \n",
      " 3   lon           553 non-null    bool \n",
      " 4   alamat        553 non-null    bool \n",
      " 5   zip           553 non-null    bool \n",
      " 6   bank          553 non-null    bool \n",
      " 7   country       553 non-null    bool \n",
      " 8   provinsi      553 non-null    bool \n",
      " 9   kota          553 non-null    bool \n",
      "dtypes: bool(10)\n",
      "memory usage: 5.5 KB\n"
     ]
    }
   ],
   "source": [
    "database.isnull().info()"
   ]
  },
  {
   "cell_type": "code",
   "execution_count": 47,
   "id": "de08c780-9393-48ec-a04f-80514a87cee6",
   "metadata": {},
   "outputs": [
    {
     "ename": "IndexError",
     "evalue": "list index out of range",
     "output_type": "error",
     "traceback": [
      "\u001b[1;31m---------------------------------------------------------------------------\u001b[0m",
      "\u001b[1;31mIndexError\u001b[0m                                Traceback (most recent call last)",
      "Input \u001b[1;32mIn [47]\u001b[0m, in \u001b[0;36m<cell line: 1>\u001b[1;34m()\u001b[0m\n\u001b[1;32m----> 1\u001b[0m \u001b[43mresp\u001b[49m\u001b[43m[\u001b[49m\u001b[38;5;241;43m1\u001b[39;49m\u001b[43m]\u001b[49m[\u001b[38;5;124m'\u001b[39m\u001b[38;5;124mdisplay_name\u001b[39m\u001b[38;5;124m'\u001b[39m]\u001b[38;5;241m.\u001b[39msplit(\u001b[38;5;124m'\u001b[39m\u001b[38;5;124m,\u001b[39m\u001b[38;5;124m'\u001b[39m)[\u001b[38;5;241m0\u001b[39m]\n",
      "\u001b[1;31mIndexError\u001b[0m: list index out of range"
     ]
    }
   ],
   "source": [
    "resp[1]['display_name'].split(',')[0]"
   ]
  },
  {
   "cell_type": "code",
   "execution_count": 48,
   "id": "6eec4849-78fd-4151-bd1a-343959e9df05",
   "metadata": {},
   "outputs": [
    {
     "data": {
      "text/plain": [
       "[]"
      ]
     },
     "execution_count": 48,
     "metadata": {},
     "output_type": "execute_result"
    }
   ],
   "source": [
    "resp"
   ]
  },
  {
   "cell_type": "code",
   "execution_count": 42,
   "id": "e2e04d53-6f49-48c5-b76c-dc60828ea023",
   "metadata": {},
   "outputs": [
    {
     "data": {
      "text/plain": [
       "19817982"
      ]
     },
     "execution_count": 42,
     "metadata": {},
     "output_type": "execute_result"
    }
   ],
   "source": [
    "resp[0]['place_id']"
   ]
  },
  {
   "cell_type": "code",
   "execution_count": 43,
   "id": "29023c3d-51fa-414c-aebc-aea1bb05e41e",
   "metadata": {},
   "outputs": [
    {
     "data": {
      "text/plain": [
       "[182361749,\n",
       " 217754561,\n",
       " 193951766,\n",
       " 357182759,\n",
       " 299579616,\n",
       " 39975125,\n",
       " 136995632,\n",
       " 76281308,\n",
       " 209173080,\n",
       " 55775106,\n",
       " 59085078,\n",
       " 39467052,\n",
       " 355036871,\n",
       " 361494583,\n",
       " 54179691,\n",
       " 165505286,\n",
       " 191220479,\n",
       " 45272275,\n",
       " 56004122,\n",
       " 98003765,\n",
       " 47560029,\n",
       " 357095716,\n",
       " 357090910,\n",
       " 219625431,\n",
       " 57511614,\n",
       " 220740125,\n",
       " 357988264,\n",
       " 17381595,\n",
       " 150890142,\n",
       " 36796616,\n",
       " 152196022,\n",
       " 162847464,\n",
       " 161462248,\n",
       " 192647920,\n",
       " 38959025,\n",
       " 63742238,\n",
       " 163520453,\n",
       " 192982488,\n",
       " 17920902,\n",
       " 42723261,\n",
       " 154273510,\n",
       " 154272589,\n",
       " 203931588,\n",
       " 306442442,\n",
       " 55511812,\n",
       " 209656357,\n",
       " 76009655,\n",
       " 158711438,\n",
       " 186399662,\n",
       " 76118829,\n",
       " 234077186,\n",
       " 193613426,\n",
       " 232268644,\n",
       " 198932862,\n",
       " 152685667,\n",
       " 217979500,\n",
       " 144523293,\n",
       " 49573757,\n",
       " 65865361,\n",
       " 65950120,\n",
       " 101488830,\n",
       " 64586408,\n",
       " 48787744,\n",
       " 39608893,\n",
       " 39721445,\n",
       " 51542307,\n",
       " 137373339,\n",
       " 166888136,\n",
       " 62739154,\n",
       " 190401389,\n",
       " 28022448,\n",
       " 40281099,\n",
       " 63729476,\n",
       " 201735888,\n",
       " 180994041,\n",
       " 213146840,\n",
       " 1075706,\n",
       " 181891859,\n",
       " 179299757,\n",
       " 235372359,\n",
       " 42015475,\n",
       " 357149126,\n",
       " 98637571,\n",
       " 231502202,\n",
       " 194890364,\n",
       " 98387150,\n",
       " 198555345,\n",
       " 19887226,\n",
       " 49820695,\n",
       " 299878042,\n",
       " 70634316,\n",
       " 351503226,\n",
       " 200833388,\n",
       " 56249584,\n",
       " 348555173,\n",
       " 24463044,\n",
       " 192369062,\n",
       " 218202806]"
      ]
     },
     "execution_count": 43,
     "metadata": {},
     "output_type": "execute_result"
    }
   ],
   "source": [
    "id"
   ]
  },
  {
   "cell_type": "code",
   "execution_count": 49,
   "id": "5199fbf4-0ce3-4bc8-9d3b-20d3266f5a4a",
   "metadata": {},
   "outputs": [
    {
     "data": {
      "text/plain": [
       "0"
      ]
     },
     "execution_count": 49,
     "metadata": {},
     "output_type": "execute_result"
    }
   ],
   "source": [
    "len(resp)"
   ]
  },
  {
   "cell_type": "code",
   "execution_count": null,
   "id": "9843a544-8acc-4f6c-aca8-c4724433aa50",
   "metadata": {},
   "outputs": [],
   "source": []
  }
 ],
 "metadata": {
  "kernelspec": {
   "display_name": "Python 3 (ipykernel)",
   "language": "python",
   "name": "python3"
  },
  "language_info": {
   "codemirror_mode": {
    "name": "ipython",
    "version": 3
   },
   "file_extension": ".py",
   "mimetype": "text/x-python",
   "name": "python",
   "nbconvert_exporter": "python",
   "pygments_lexer": "ipython3",
   "version": "3.9.12"
  }
 },
 "nbformat": 4,
 "nbformat_minor": 5
}
